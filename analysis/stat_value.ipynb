{
 "cells": [
  {
   "cell_type": "markdown",
   "id": "912fadc3",
   "metadata": {},
   "source": [
    "### Correlation and Value of Each Stat"
   ]
  },
  {
   "cell_type": "code",
   "execution_count": 17,
   "id": "85ef4a6b",
   "metadata": {},
   "outputs": [],
   "source": [
    "import pandas as pd \n",
    "import numpy as np\n",
    "import os\n",
    "import matplotlib.pyplot as plt\n",
    "os.chdir('C:/Users/dalto/OneDrive/Pictures/Documents/Projects/Swing Decisons')"
   ]
  },
  {
   "cell_type": "code",
   "execution_count": 18,
   "id": "62b43f9c",
   "metadata": {},
   "outputs": [],
   "source": [
    "swing = pd.read_csv('./data/final_datasets/swing_values.csv')\n",
    "fg = pd.read_csv('./data/final_datasets/data_15_24.csv')"
   ]
  },
  {
   "cell_type": "code",
   "execution_count": 19,
   "id": "5653a9ef",
   "metadata": {},
   "outputs": [],
   "source": [
    "dfs = swing.merge(fg, how='left', left_on=['batter', 'game_date'], right_on=['Name', 'Season'])"
   ]
  },
  {
   "cell_type": "code",
   "execution_count": 20,
   "id": "74d434ee",
   "metadata": {},
   "outputs": [],
   "source": [
    "# Select columns of interest for correlation\n",
    "cols_of_interest = [\n",
    "'avg_swing_value',\n",
    "]\n",
    "\n",
    "# Add all other numeric columns except identifiers and duplicates\n",
    "exclude_cols = [\n",
    "    'Unnamed: 0_x', 'batter', 'game_date', 'Unnamed: 0_y', 'Season', 'Name', 'Team'\n",
    "]\n",
    "numeric_cols = [col for col in dfs.select_dtypes(include=[np.number]).columns if col not in exclude_cols]\n",
    "\n",
    "# Ensure all columns of interest are included\n",
    "corr_cols = list(set(cols_of_interest + numeric_cols))\n",
    "\n",
    "# Compute correlation matrix\n",
    "corr_matrix = dfs[corr_cols].corr()\n",
    "\n",
    "# Show correlations of the 5 key stats with all other stats\n",
    "corr_matrix_stat = corr_matrix[['avg_value_total', 'avg_swing_value', 'swing_value_added']]"
   ]
  },
  {
   "cell_type": "code",
   "execution_count": 21,
   "id": "edd1e3f1",
   "metadata": {},
   "outputs": [
    {
     "name": "stdout",
     "output_type": "stream",
     "text": [
      "                 stat         other_stat  correlation\n",
      "0     avg_value_total    avg_value_total     1.000000\n",
      "17  swing_value_added  swing_value_added     1.000000\n",
      "18    avg_swing_value    avg_value_total     0.849819\n",
      "20    avg_swing_value  swing_value_added    -0.796730\n",
      "84           O-Swing%    avg_value_total    -0.741924\n",
      "72         bb_percent    avg_value_total     0.724742\n",
      "87                BB%    avg_value_total     0.723811\n",
      "15  swing_value_added    avg_value_total    -0.659730\n",
      "2     avg_value_total  swing_value_added    -0.659730\n",
      "33      swing_percent    avg_value_total    -0.613705\n",
      "12             SwStr%    avg_value_total    -0.458797\n",
      "78              xwoba    avg_value_total     0.402293\n",
      "86           O-Swing%  swing_value_added     0.379782\n",
      "38                 K%  swing_value_added     0.345675\n",
      "14             SwStr%  swing_value_added     0.343805\n",
      "11          k_percent  swing_value_added     0.339716\n",
      "53               CSW%  swing_value_added     0.337685\n",
      "30               woba    avg_value_total     0.332800\n",
      "5            Contact%  swing_value_added    -0.332304\n",
      "90               wRC+    avg_value_total     0.329619\n"
     ]
    }
   ],
   "source": [
    "# Unstack, filter, and sort by absolute value, excluding self and cols_of_interest-to-cols_of_interest\n",
    "corr_unstacked = corr_matrix_stat.stack().reset_index()\n",
    "corr_unstacked.columns = ['stat', 'other_stat', 'correlation']\n",
    "\n",
    "# Exclude relationships where both are in cols_of_interest (self relationships)\n",
    "mask = ~corr_unstacked['other_stat'].isin(cols_of_interest)\n",
    "filtered_corrs = corr_unstacked[mask]\n",
    "\n",
    "# Sort by absolute correlation value and show top 20\n",
    "top20 = filtered_corrs.reindex(filtered_corrs['correlation'].abs().sort_values(ascending=False).index).head(20)\n",
    "print(top20)"
   ]
  },
  {
   "cell_type": "code",
   "execution_count": 22,
   "id": "549ce4df",
   "metadata": {},
   "outputs": [
    {
     "name": "stdout",
     "output_type": "stream",
     "text": [
      "Correlation between current and next year avg_value_total: 0.688\n",
      "Correlation between current and next year avg_swing_value: 0.665\n",
      "Correlation between current and next year woba: 0.406\n",
      "Correlation between current and next year BB%: 0.688\n",
      "Correlation between current and next year O-Swing%: 0.823\n",
      "Correlation between current and next year xwoba: 0.601\n"
     ]
    }
   ],
   "source": [
    "metrics_to_test = ['avg_value_total', 'avg_swing_value','woba', 'BB%', 'O-Swing%', 'xwoba']\n",
    "\n",
    "for metric in metrics_to_test:\n",
    "    player_year = dfs[['batter', 'game_date', metric]].sort_values(['batter', 'game_date'])\n",
    "\n",
    "    # Shift metric by 1 year for each player\n",
    "    player_year[f'{metric}_next'] = player_year.groupby('batter')[metric].shift(-1)\n",
    "    player_year['year_next'] = player_year.groupby('batter')['game_date'].shift(-1)\n",
    "\n",
    "    # Only keep rows where the next year is consecutive\n",
    "    player_year = player_year[player_year['game_date'] + 1 == player_year['year_next']]\n",
    "\n",
    "    # Drop rows with missing values\n",
    "    player_year = player_year.dropna(subset=[metric, f'{metric}_next'])\n",
    "\n",
    "    # Compute correlation across all player-year pairs\n",
    "    corr = player_year[metric].corr(player_year[f'{metric}_next'])\n",
    "    print(f\"Correlation between current and next year {metric}: {corr:.3f}\")"
   ]
  },
  {
   "cell_type": "code",
   "execution_count": 23,
   "id": "8cf0e64c",
   "metadata": {},
   "outputs": [],
   "source": [
    "# Sort the data by batter and game_date\n",
    "dfs_sorted = dfs.sort_values(['batter', 'game_date'])"
   ]
  },
  {
   "cell_type": "code",
   "execution_count": 24,
   "id": "2f7c7f03",
   "metadata": {},
   "outputs": [
    {
     "name": "stdout",
     "output_type": "stream",
     "text": [
      "                  stat  corr_next_woba  corr_next_BB%\n",
      "0         Unnamed: 0_x        0.013743       0.007494\n",
      "1      avg_swing_value        0.183604       0.504462\n",
      "2    swing_value_added       -0.032352      -0.234363\n",
      "3      avg_value_total        0.262777       0.557841\n",
      "4         Unnamed: 0_y        0.011647       0.005952\n",
      "5                   PA        0.381039       0.124491\n",
      "6                  Age        0.036546       0.083775\n",
      "7                   K%       -0.089815       0.126428\n",
      "8                BABIP        0.097669      -0.059857\n",
      "9                 wRC+        0.413755       0.290970\n",
      "10                 BsR       -0.049588      -0.102095\n",
      "11                 Off        0.416095       0.284181\n",
      "12                 Def       -0.244962      -0.190978\n",
      "13                 WAR        0.334190       0.177968\n",
      "14             Barrel%        0.347484       0.297378\n",
      "15               maxEV        0.365043       0.135039\n",
      "16            HardHit%        0.345639       0.202850\n",
      "17            O-Swing%       -0.160852      -0.650334\n",
      "18            Z-Swing%        0.052152      -0.270066\n",
      "19          O-Contact%        0.022232      -0.081961\n",
      "20          Z-Contact%       -0.026468      -0.105950\n",
      "21            Contact%        0.014874      -0.000972\n",
      "22              SwStr%       -0.060809      -0.199771\n",
      "23                CSW%       -0.149376       0.084517\n",
      "24           player_id       -0.040290      -0.058271\n",
      "25                  pa        0.381036       0.124487\n",
      "26           k_percent       -0.089898       0.126579\n",
      "27          bb_percent        0.319499       0.690869\n",
      "28               xwoba        0.463798       0.314580\n",
      "29  sweet_spot_percent        0.108028       0.060640\n",
      "30  barrel_batted_rate        0.347326       0.297488\n",
      "31    hard_hit_percent        0.346321       0.205200\n",
      "32      avg_best_speed        0.361597       0.199998\n",
      "33     avg_hyper_speed        0.367454       0.218293\n",
      "34       whiff_percent       -0.014242       0.010239\n",
      "35       swing_percent       -0.142281      -0.596122\n"
     ]
    }
   ],
   "source": [
    "# List of stats to process (exclude 'woba' and 'BB%')\n",
    "stats_to_process = [col for col in dfs_sorted.columns if col not in ['woba', 'BB%', 'batter', 'game_date', 'Name', 'Season', 'Team', ''] and dfs_sorted[col].dtype != 'O']\n",
    "\n",
    "results = []\n",
    "\n",
    "for stat in stats_to_process:\n",
    "    temp = dfs_sorted[['batter', 'game_date', stat, 'woba', 'BB%']].copy()\n",
    "    temp[f'{stat}_next'] = temp.groupby('batter')[stat].shift(-1)\n",
    "    temp['year_next'] = temp.groupby('batter')['game_date'].shift(-1)\n",
    "    # Only keep rows where the next year is consecutive\n",
    "    temp = temp[temp['game_date'] + 1 == temp['year_next']]\n",
    "    temp = temp.dropna(subset=[stat, f'{stat}_next', 'woba', 'BB%'])\n",
    "    if not temp.empty:\n",
    "        corr_woba = temp[f'{stat}_next'].corr(temp['woba'])\n",
    "        corr_bb = temp[f'{stat}_next'].corr(temp['BB%'])\n",
    "        results.append({'stat': stat, 'corr_next_woba': corr_woba, 'corr_next_BB%': corr_bb})\n",
    "\n",
    "correlations_df = pd.DataFrame(results)\n",
    "print(correlations_df)"
   ]
  }
 ],
 "metadata": {
  "kernelspec": {
   "display_name": "base",
   "language": "python",
   "name": "python3"
  },
  "language_info": {
   "codemirror_mode": {
    "name": "ipython",
    "version": 3
   },
   "file_extension": ".py",
   "mimetype": "text/x-python",
   "name": "python",
   "nbconvert_exporter": "python",
   "pygments_lexer": "ipython3",
   "version": "3.12.7"
  }
 },
 "nbformat": 4,
 "nbformat_minor": 5
}
