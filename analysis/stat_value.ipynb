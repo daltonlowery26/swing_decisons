{
 "cells": [
  {
   "cell_type": "markdown",
   "id": "912fadc3",
   "metadata": {},
   "source": [
    "### Correlation and Value of Each Stat"
   ]
  },
  {
   "cell_type": "code",
   "execution_count": 34,
   "id": "85ef4a6b",
   "metadata": {},
   "outputs": [],
   "source": [
    "import pandas as pd \n",
    "import numpy as np\n",
    "import os\n",
    "import matplotlib.pyplot as plt\n",
    "os.chdir('C:/Users/dalto/OneDrive/Pictures/Documents/Projects/Swing Decisons')"
   ]
  },
  {
   "cell_type": "code",
   "execution_count": 35,
   "id": "62b43f9c",
   "metadata": {},
   "outputs": [],
   "source": [
    "swing = pd.read_csv('./data/final_datasets/swing_values.csv')\n",
    "fg = pd.read_csv('./data/final_datasets/data_15_24.csv')"
   ]
  },
  {
   "cell_type": "code",
   "execution_count": 36,
   "id": "5653a9ef",
   "metadata": {},
   "outputs": [],
   "source": [
    "dfs = swing.merge(fg, how='left', left_on=['batter', 'game_date'], right_on=['Name', 'Season'])"
   ]
  },
  {
   "cell_type": "code",
   "execution_count": 37,
   "id": "74d434ee",
   "metadata": {},
   "outputs": [],
   "source": [
    "# Select columns of interest for correlation\n",
    "cols_of_interest = [\n",
    "'avg_swing_value',\n",
    "]\n",
    "\n",
    "# Add all other numeric columns except identifiers and duplicates\n",
    "exclude_cols = [\n",
    "    'Unnamed: 0_x', 'batter', 'game_date', 'Unnamed: 0_y', 'Season', 'Name', 'Team'\n",
    "]\n",
    "numeric_cols = [col for col in dfs.select_dtypes(include=[np.number]).columns if col not in exclude_cols]\n",
    "\n",
    "# Ensure all columns of interest are included\n",
    "corr_cols = list(set(cols_of_interest + numeric_cols))\n",
    "\n",
    "# Compute correlation matrix\n",
    "corr_matrix = dfs[corr_cols].corr()\n",
    "\n",
    "# Show correlations of the 5 key stats with all other stats\n",
    "corr_matrix_stat = corr_matrix[['avg_value_total', 'avg_swing_value', 'avg_take_value', 'avg_sum_value', 'O-Swing%']]"
   ]
  },
  {
   "cell_type": "code",
   "execution_count": 38,
   "id": "edd1e3f1",
   "metadata": {},
   "outputs": [
    {
     "name": "stdout",
     "output_type": "stream",
     "text": [
      "                stat       other_stat  correlation\n",
      "88     avg_sum_value    avg_sum_value     1.000000\n",
      "17    avg_take_value   avg_take_value     1.000000\n",
      "134         O-Swing%         O-Swing%     1.000000\n",
      "140  avg_value_total  avg_value_total     1.000000\n",
      "87     avg_sum_value   avg_take_value    -0.996870\n",
      "18    avg_take_value    avg_sum_value    -0.996870\n",
      "53   avg_swing_value    avg_sum_value     0.992736\n",
      "133         O-Swing%    avg_sum_value     0.983780\n",
      "89     avg_sum_value         O-Swing%     0.983780\n",
      "54   avg_swing_value         O-Swing%     0.982707\n",
      "52   avg_swing_value   avg_take_value    -0.980119\n",
      "19    avg_take_value         O-Swing%    -0.976710\n",
      "132         O-Swing%   avg_take_value    -0.976710\n",
      "15    avg_take_value  avg_value_total     0.939008\n",
      "142  avg_value_total   avg_take_value     0.939008\n",
      "143  avg_value_total    avg_sum_value    -0.908883\n",
      "85     avg_sum_value  avg_value_total    -0.908883\n",
      "9      swing_percent         O-Swing%     0.900668\n",
      "8      swing_percent    avg_sum_value     0.887681\n",
      "7      swing_percent   avg_take_value    -0.885522\n"
     ]
    }
   ],
   "source": [
    "# Unstack, filter, and sort by absolute value, excluding self and cols_of_interest-to-cols_of_interest\n",
    "corr_unstacked = corr_matrix_stat.stack().reset_index()\n",
    "corr_unstacked.columns = ['stat', 'other_stat', 'correlation']\n",
    "\n",
    "# Exclude relationships where both are in cols_of_interest (self relationships)\n",
    "mask = ~corr_unstacked['other_stat'].isin(cols_of_interest)\n",
    "filtered_corrs = corr_unstacked[mask]\n",
    "\n",
    "# Sort by absolute correlation value and show top 20\n",
    "top20 = filtered_corrs.reindex(filtered_corrs['correlation'].abs().sort_values(ascending=False).index).head(20)\n",
    "print(top20)"
   ]
  },
  {
   "cell_type": "code",
   "execution_count": 39,
   "id": "549ce4df",
   "metadata": {},
   "outputs": [
    {
     "name": "stdout",
     "output_type": "stream",
     "text": [
      "Correlation between current and next year avg_value_total: 0.749\n",
      "Correlation between current and next year avg_swing_value: 0.810\n",
      "Correlation between current and next year avg_take_value: 0.808\n",
      "Correlation between current and next year avg_sum_value: 0.812\n",
      "Correlation between current and next year woba: 0.468\n",
      "Correlation between current and next year BB%: 0.710\n",
      "Correlation between current and next year O-Swing%: 0.832\n",
      "Correlation between current and next year xwoba: 0.645\n"
     ]
    }
   ],
   "source": [
    "metrics_to_test = ['avg_value_total', 'avg_swing_value', 'avg_take_value', 'avg_sum_value', 'woba', 'BB%', 'O-Swing%', 'xwoba']\n",
    "\n",
    "for metric in metrics_to_test:\n",
    "    player_year = dfs[['batter', 'game_date', metric]].sort_values(['batter', 'game_date'])\n",
    "\n",
    "    # Shift metric by 1 year for each player\n",
    "    player_year[f'{metric}_next'] = player_year.groupby('batter')[metric].shift(-1)\n",
    "    player_year['year_next'] = player_year.groupby('batter')['game_date'].shift(-1)\n",
    "\n",
    "    # Only keep rows where the next year is consecutive\n",
    "    player_year = player_year[player_year['game_date'] + 1 == player_year['year_next']]\n",
    "\n",
    "    # Drop rows with missing values\n",
    "    player_year = player_year.dropna(subset=[metric, f'{metric}_next'])\n",
    "\n",
    "    # Compute correlation across all player-year pairs\n",
    "    corr = player_year[metric].corr(player_year[f'{metric}_next'])\n",
    "    print(f\"Correlation between current and next year {metric}: {corr:.3f}\")"
   ]
  },
  {
   "cell_type": "code",
   "execution_count": 40,
   "id": "8cf0e64c",
   "metadata": {},
   "outputs": [],
   "source": [
    "# Sort the data by batter and game_date\n",
    "dfs_sorted = dfs.sort_values(['batter', 'game_date'])"
   ]
  },
  {
   "cell_type": "code",
   "execution_count": 41,
   "id": "2f7c7f03",
   "metadata": {},
   "outputs": [
    {
     "name": "stdout",
     "output_type": "stream",
     "text": [
      "                  stat  corr_next_woba  corr_next_BB%\n",
      "0         Unnamed: 0_x        0.098359       0.018517\n",
      "1      avg_value_total        0.169792       0.630323\n",
      "2      avg_swing_value       -0.083693      -0.582790\n",
      "3       avg_take_value        0.119329       0.623791\n",
      "4        avg_sum_value       -0.105643      -0.610543\n",
      "5         Unnamed: 0_y        0.096846       0.016541\n",
      "6                   PA        0.217989       0.064154\n",
      "7                  Age        0.044055       0.142815\n",
      "8                   K%       -0.016982       0.119996\n",
      "9                BABIP        0.131183      -0.115252\n",
      "10                wRC+        0.491551       0.339140\n",
      "11                 BsR       -0.115156      -0.142918\n",
      "12                 Off        0.464119       0.319922\n",
      "13                 Def       -0.245285      -0.196178\n",
      "14                 WAR        0.314621       0.192130\n",
      "15             Barrel%        0.407536       0.338779\n",
      "16               maxEV        0.353335       0.200663\n",
      "17            HardHit%        0.365713       0.279353\n",
      "18            O-Swing%       -0.080444      -0.589382\n",
      "19            Z-Swing%        0.122444      -0.262828\n",
      "20          O-Contact%       -0.095172      -0.089987\n",
      "21          Z-Contact%       -0.128028      -0.148053\n",
      "22            Contact%       -0.110786      -0.039962\n",
      "23              SwStr%        0.076112      -0.150780\n",
      "24                CSW%       -0.100183       0.102450\n",
      "25           player_id       -0.011560      -0.093220\n",
      "26                  pa        0.217989       0.064154\n",
      "27           k_percent       -0.017182       0.120091\n",
      "28          bb_percent        0.336946       0.713261\n",
      "29               xwoba        0.497750       0.369768\n",
      "30  sweet_spot_percent        0.103016       0.000558\n",
      "31  barrel_batted_rate        0.407958       0.338524\n",
      "32    hard_hit_percent        0.365878       0.280703\n",
      "33      avg_best_speed        0.374237       0.269671\n",
      "34     avg_hyper_speed        0.385558       0.288625\n",
      "35       whiff_percent        0.109865       0.045895\n",
      "36       swing_percent       -0.052649      -0.553387\n"
     ]
    }
   ],
   "source": [
    "# List of stats to process (exclude 'woba' and 'BB%')\n",
    "stats_to_process = [col for col in dfs_sorted.columns if col not in ['woba', 'BB%', 'batter', 'game_date', 'Name', 'Season', 'Team', ''] and dfs_sorted[col].dtype != 'O']\n",
    "\n",
    "results = []\n",
    "\n",
    "for stat in stats_to_process:\n",
    "    temp = dfs_sorted[['batter', 'game_date', stat, 'woba', 'BB%']].copy()\n",
    "    temp[f'{stat}_next'] = temp.groupby('batter')[stat].shift(-1)\n",
    "    temp['year_next'] = temp.groupby('batter')['game_date'].shift(-1)\n",
    "    # Only keep rows where the next year is consecutive\n",
    "    temp = temp[temp['game_date'] + 1 == temp['year_next']]\n",
    "    temp = temp.dropna(subset=[stat, f'{stat}_next', 'woba', 'BB%'])\n",
    "    if not temp.empty:\n",
    "        corr_woba = temp[f'{stat}_next'].corr(temp['woba'])\n",
    "        corr_bb = temp[f'{stat}_next'].corr(temp['BB%'])\n",
    "        results.append({'stat': stat, 'corr_next_woba': corr_woba, 'corr_next_BB%': corr_bb})\n",
    "\n",
    "correlations_df = pd.DataFrame(results)\n",
    "print(correlations_df)"
   ]
  }
 ],
 "metadata": {
  "kernelspec": {
   "display_name": "base",
   "language": "python",
   "name": "python3"
  },
  "language_info": {
   "codemirror_mode": {
    "name": "ipython",
    "version": 3
   },
   "file_extension": ".py",
   "mimetype": "text/x-python",
   "name": "python",
   "nbconvert_exporter": "python",
   "pygments_lexer": "ipython3",
   "version": "3.12.7"
  }
 },
 "nbformat": 4,
 "nbformat_minor": 5
}
