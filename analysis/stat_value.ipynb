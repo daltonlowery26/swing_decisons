{
 "cells": [
  {
   "cell_type": "markdown",
   "id": "912fadc3",
   "metadata": {},
   "source": [
    "### Correlation and Value of Each Stat"
   ]
  },
  {
   "cell_type": "code",
   "execution_count": 269,
   "id": "85ef4a6b",
   "metadata": {},
   "outputs": [],
   "source": [
    "import pandas as pd \n",
    "import numpy as np\n",
    "import os\n",
    "import matplotlib.pyplot as plt\n",
    "os.chdir('C:/Users/dalto/OneDrive/Pictures/Documents/Projects/Swing Decisons')"
   ]
  },
  {
   "cell_type": "code",
   "execution_count": 270,
   "id": "62b43f9c",
   "metadata": {},
   "outputs": [],
   "source": [
    "swing = pd.read_csv('./data/final_datasets/swing_values.csv')\n",
    "fg = pd.read_csv('./data/final_datasets/data_15_24.csv')"
   ]
  },
  {
   "cell_type": "code",
   "execution_count": 271,
   "id": "5653a9ef",
   "metadata": {},
   "outputs": [],
   "source": [
    "dfs = swing.merge(fg, how='left', left_on=['batter', 'game_date'], right_on=['Name', 'Season'])"
   ]
  },
  {
   "cell_type": "code",
   "execution_count": 272,
   "id": "74d434ee",
   "metadata": {},
   "outputs": [],
   "source": [
    "# Select columns of interest for correlation\n",
    "cols_of_interest = [\n",
    "'avg_swing_value',\n",
    "]\n",
    "\n",
    "# Add all other numeric columns except identifiers and duplicates\n",
    "exclude_cols = [\n",
    "    'Unnamed: 0_x', 'batter', 'game_date', 'Unnamed: 0_y', 'Season', 'Name', 'Team'\n",
    "]\n",
    "numeric_cols = [col for col in dfs.select_dtypes(include=[np.number]).columns if col not in exclude_cols]\n",
    "\n",
    "# Ensure all columns of interest are included\n",
    "corr_cols = list(set(cols_of_interest + numeric_cols))\n",
    "\n",
    "# Compute correlation matrix\n",
    "corr_matrix = dfs[corr_cols].corr()\n",
    "\n",
    "# Show correlations of the 5 key stats with all other stats\n",
    "corr_matrix_stat = corr_matrix[['avg_value_total', 'avg_swing_value', 'avg_take_value', 'avg_sum_value']]"
   ]
  },
  {
   "cell_type": "code",
   "execution_count": 273,
   "id": "edd1e3f1",
   "metadata": {},
   "outputs": [
    {
     "name": "stdout",
     "output_type": "stream",
     "text": [
      "                stat       other_stat  correlation\n",
      "128  avg_value_total  avg_value_total     1.000000\n",
      "79     avg_sum_value    avg_sum_value     1.000000\n",
      "38    avg_take_value   avg_take_value     1.000000\n",
      "39    avg_take_value    avg_sum_value    -0.996024\n",
      "78     avg_sum_value   avg_take_value    -0.996024\n",
      "135  avg_swing_value    avg_sum_value     0.994810\n",
      "134  avg_swing_value   avg_take_value    -0.981790\n",
      "126         O-Swing%   avg_take_value    -0.917056\n",
      "127         O-Swing%    avg_sum_value     0.916840\n",
      "7      swing_percent    avg_sum_value     0.900847\n",
      "6      swing_percent   avg_take_value    -0.896680\n",
      "34        bb_percent   avg_take_value     0.721463\n",
      "66               BB%   avg_take_value     0.717950\n",
      "35        bb_percent    avg_sum_value    -0.708409\n",
      "67               BB%    avg_sum_value    -0.704224\n",
      "36    avg_take_value  avg_value_total     0.645097\n",
      "130  avg_value_total   avg_take_value     0.645097\n",
      "87          Z-Swing%    avg_sum_value     0.590203\n",
      "131  avg_value_total    avg_sum_value    -0.574463\n",
      "76     avg_sum_value  avg_value_total    -0.574463\n"
     ]
    }
   ],
   "source": [
    "# Unstack, filter, and sort by absolute value, excluding self and cols_of_interest-to-cols_of_interest\n",
    "corr_unstacked = corr_matrix_stat.stack().reset_index()\n",
    "corr_unstacked.columns = ['stat', 'other_stat', 'correlation']\n",
    "\n",
    "# Exclude relationships where both are in cols_of_interest (self relationships)\n",
    "mask = ~corr_unstacked['other_stat'].isin(cols_of_interest)\n",
    "filtered_corrs = corr_unstacked[mask]\n",
    "\n",
    "# Sort by absolute correlation value and show top 20\n",
    "top20 = filtered_corrs.reindex(filtered_corrs['correlation'].abs().sort_values(ascending=False).index).head(20)\n",
    "print(top20)"
   ]
  },
  {
   "cell_type": "code",
   "execution_count": 274,
   "id": "549ce4df",
   "metadata": {},
   "outputs": [
    {
     "name": "stdout",
     "output_type": "stream",
     "text": [
      "Correlation between current and next year avg_value_total: 0.447\n",
      "Correlation between current and next year avg_swing_value: 0.808\n",
      "Correlation between current and next year avg_take_value: 0.800\n",
      "Correlation between current and next year woba: 0.364\n",
      "Correlation between current and next year BB%: 0.607\n",
      "Correlation between current and next year O-Swing%: 0.787\n",
      "Correlation between current and next year xwoba: 0.565\n"
     ]
    }
   ],
   "source": [
    "metrics_to_test = ['avg_value_total', 'avg_swing_value', 'avg_take_value', 'woba', 'BB%', 'O-Swing%', 'xwoba']\n",
    "\n",
    "for metric in metrics_to_test:\n",
    "    player_year = dfs[['batter', 'game_date', metric]].sort_values(['batter', 'game_date'])\n",
    "\n",
    "    # Shift metric by 1 year for each player\n",
    "    player_year[f'{metric}_next'] = player_year.groupby('batter')[metric].shift(-1)\n",
    "    player_year['year_next'] = player_year.groupby('batter')['game_date'].shift(-1)\n",
    "\n",
    "    # Only keep rows where the next year is consecutive\n",
    "    player_year = player_year[player_year['game_date'] + 1 == player_year['year_next']]\n",
    "\n",
    "    # Drop rows with missing values\n",
    "    player_year = player_year.dropna(subset=[metric, f'{metric}_next'])\n",
    "\n",
    "    # Compute correlation across all player-year pairs\n",
    "    corr = player_year[metric].corr(player_year[f'{metric}_next'])\n",
    "    print(f\"Correlation between current and next year {metric}: {corr:.3f}\")"
   ]
  },
  {
   "cell_type": "code",
   "execution_count": 275,
   "id": "8cf0e64c",
   "metadata": {},
   "outputs": [],
   "source": [
    "# Sort the data by batter and game_date\n",
    "dfs_sorted = dfs.sort_values(['batter', 'game_date'])"
   ]
  },
  {
   "cell_type": "code",
   "execution_count": 276,
   "id": "2f7c7f03",
   "metadata": {},
   "outputs": [
    {
     "name": "stdout",
     "output_type": "stream",
     "text": [
      "                  stat  corr_next_woba  corr_next_BB%\n",
      "0         Unnamed: 0_x        0.013750       0.009129\n",
      "1      avg_value_total        0.178943       0.416633\n",
      "2      avg_swing_value       -0.109101      -0.601978\n",
      "3       avg_take_value        0.132883       0.611823\n",
      "4        avg_sum_value       -0.122317      -0.609703\n",
      "5         Unnamed: 0_y        0.012791       0.008808\n",
      "6                   PA        0.431866       0.161298\n",
      "7                  Age        0.077955       0.096905\n",
      "8                   K%       -0.135808       0.098757\n",
      "9                BABIP        0.107253      -0.025011\n",
      "10                wRC+        0.368513       0.245582\n",
      "11                 BsR       -0.037543      -0.089698\n",
      "12                 Off        0.366628       0.270422\n",
      "13                 Def       -0.197785      -0.176145\n",
      "14                 WAR        0.349532       0.189336\n",
      "15             Barrel%        0.301552       0.260909\n",
      "16               maxEV        0.361568       0.148023\n",
      "17            HardHit%        0.335728       0.193478\n",
      "18            O-Swing%       -0.134210      -0.605040\n",
      "19            Z-Swing%        0.036662      -0.273387\n",
      "20          O-Contact%        0.062723      -0.056534\n",
      "21          Z-Contact%        0.069957      -0.073589\n",
      "22            Contact%        0.082127       0.014889\n",
      "23              SwStr%       -0.116187      -0.200777\n",
      "24                CSW%       -0.176887       0.081741\n",
      "25           player_id       -0.075281      -0.073767\n",
      "26                  pa        0.431866       0.161297\n",
      "27           k_percent       -0.135854       0.098877\n",
      "28          bb_percent        0.264099       0.611791\n",
      "29               xwoba        0.441608       0.282545\n",
      "30  sweet_spot_percent        0.144684       0.078059\n",
      "31  barrel_batted_rate        0.302321       0.261427\n",
      "32    hard_hit_percent        0.335584       0.193806\n",
      "33      avg_best_speed        0.344004       0.195858\n",
      "34     avg_hyper_speed        0.341411       0.210214\n",
      "35       whiff_percent       -0.077671      -0.005605\n",
      "36       swing_percent       -0.132867      -0.567660\n"
     ]
    }
   ],
   "source": [
    "# List of stats to process (exclude 'woba' and 'BB%')\n",
    "stats_to_process = [col for col in dfs_sorted.columns if col not in ['woba', 'BB%', 'batter', 'game_date', 'Name', 'Season', 'Team', ''] and dfs_sorted[col].dtype != 'O']\n",
    "\n",
    "results = []\n",
    "\n",
    "for stat in stats_to_process:\n",
    "    temp = dfs_sorted[['batter', 'game_date', stat, 'woba', 'BB%']].copy()\n",
    "    temp[f'{stat}_next'] = temp.groupby('batter')[stat].shift(-1)\n",
    "    temp['year_next'] = temp.groupby('batter')['game_date'].shift(-1)\n",
    "    # Only keep rows where the next year is consecutive\n",
    "    temp = temp[temp['game_date'] + 1 == temp['year_next']]\n",
    "    temp = temp.dropna(subset=[stat, f'{stat}_next', 'woba', 'BB%'])\n",
    "    if not temp.empty:\n",
    "        corr_woba = temp[f'{stat}_next'].corr(temp['woba'])\n",
    "        corr_bb = temp[f'{stat}_next'].corr(temp['BB%'])\n",
    "        results.append({'stat': stat, 'corr_next_woba': corr_woba, 'corr_next_BB%': corr_bb})\n",
    "\n",
    "correlations_df = pd.DataFrame(results)\n",
    "print(correlations_df)"
   ]
  }
 ],
 "metadata": {
  "kernelspec": {
   "display_name": "base",
   "language": "python",
   "name": "python3"
  },
  "language_info": {
   "codemirror_mode": {
    "name": "ipython",
    "version": 3
   },
   "file_extension": ".py",
   "mimetype": "text/x-python",
   "name": "python",
   "nbconvert_exporter": "python",
   "pygments_lexer": "ipython3",
   "version": "3.12.7"
  }
 },
 "nbformat": 4,
 "nbformat_minor": 5
}
