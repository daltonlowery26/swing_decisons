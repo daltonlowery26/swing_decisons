{
 "cells": [
  {
   "cell_type": "markdown",
   "id": "b9fd0a0d",
   "metadata": {},
   "source": [
    "#### Isolate Decison By Bins"
   ]
  },
  {
   "cell_type": "code",
   "execution_count": 35,
   "id": "feacd8b2",
   "metadata": {},
   "outputs": [],
   "source": [
    "import pandas as pd\n",
    "import matplotlib as plt\n",
    "import numpy as np\n",
    "import os \n",
    "os.chdir('C:/Users/dalto/OneDrive/Pictures/Documents/Projects/Active Baseball/Swing Decisons/')"
   ]
  },
  {
   "cell_type": "code",
   "execution_count": 36,
   "id": "210cd665",
   "metadata": {},
   "outputs": [],
   "source": [
    "stat = pd.read_csv('./data/swing_data/asv_swing%.csv').drop(columns=['Unnamed: 0', 'Contact%'])"
   ]
  },
  {
   "cell_type": "code",
   "execution_count": 37,
   "id": "f53e4ddb",
   "metadata": {},
   "outputs": [
    {
     "name": "stdout",
     "output_type": "stream",
     "text": [
      "Number of players in each bin: 387\n",
      "\n",
      "Bin Analysis:\n",
      "           Swing%  chase_shadow_value  swing_value   PA\n",
      "swing_bin                                              \n",
      "Bin 1      0.4015            108.9908     125.9553  388\n",
      "Bin 2      0.4435            103.8549     110.9342  388\n",
      "Bin 3      0.4666            101.6643     104.9257  386\n",
      "Bin 4      0.4888             98.7804      96.9851  395\n",
      "Bin 5      0.5141             96.0299      87.7562  378\n",
      "Bin 6      0.5604             90.2820      72.6390  388\n"
     ]
    },
    {
     "name": "stderr",
     "output_type": "stream",
     "text": [
      "C:\\Users\\dalto\\AppData\\Local\\Temp\\ipykernel_21056\\2738860469.py:7: FutureWarning: The default of observed=False is deprecated and will be changed to True in a future version of pandas. Pass observed=False to retain current behavior or observed=True to adopt the future default and silence this warning.\n",
      "  swing_analysis = stat.assign(swing_bin=swing_bins).groupby('swing_bin').agg({\n"
     ]
    }
   ],
   "source": [
    "# Create bins and labels\n",
    "n_per_bin = len(stat) // 6\n",
    "swing_bins = pd.qcut(stat['Swing%'], q=6, labels=['Bin '+str(i+1) for i in range(6)])\n",
    "stat['swing_bin_number'] = swing_bins.cat.codes + 1\n",
    "\n",
    "# Add the bins to the dataframe and calculate mean values for each bin\n",
    "swing_analysis = stat.assign(swing_bin=swing_bins).groupby('swing_bin').agg({\n",
    "    'Swing%': 'mean',\n",
    "    'chase_shadow_value': 'mean',\n",
    "    'swing_value': 'mean',\n",
    "    'PA': 'count'\n",
    "}).round(4)\n",
    "\n",
    "print(\"Number of players in each bin:\", n_per_bin)\n",
    "print(\"\\nBin Analysis:\")\n",
    "print(swing_analysis)"
   ]
  },
  {
   "cell_type": "code",
   "execution_count": 38,
   "id": "1e870ab9",
   "metadata": {},
   "outputs": [
    {
     "name": "stderr",
     "output_type": "stream",
     "text": [
      "C:\\Users\\dalto\\AppData\\Local\\Temp\\ipykernel_21056\\1482308486.py:13: FutureWarning: Series.__getitem__ treating keys as positions is deprecated. In a future version, integer keys will always be treated as labels (consistent with DataFrame behavior). To access a value by position, use `ser.iloc[pos]`\n",
      "  lambda row: 100 * (1 + (row[metric] - bin_means[row['swing_bin_number'] - 1]) / bin_means[row['swing_bin_number'] - 1]),\n",
      "C:\\Users\\dalto\\AppData\\Local\\Temp\\ipykernel_21056\\1482308486.py:13: FutureWarning: Series.__getitem__ treating keys as positions is deprecated. In a future version, integer keys will always be treated as labels (consistent with DataFrame behavior). To access a value by position, use `ser.iloc[pos]`\n",
      "  lambda row: 100 * (1 + (row[metric] - bin_means[row['swing_bin_number'] - 1]) / bin_means[row['swing_bin_number'] - 1]),\n",
      "C:\\Users\\dalto\\AppData\\Local\\Temp\\ipykernel_21056\\1482308486.py:13: FutureWarning: Series.__getitem__ treating keys as positions is deprecated. In a future version, integer keys will always be treated as labels (consistent with DataFrame behavior). To access a value by position, use `ser.iloc[pos]`\n",
      "  lambda row: 100 * (1 + (row[metric] - bin_means[row['swing_bin_number'] - 1]) / bin_means[row['swing_bin_number'] - 1]),\n"
     ]
    }
   ],
   "source": [
    "# Create a new dataframe with normalized values\n",
    "normalized_stats = pd.DataFrame()\n",
    "normalized_stats['batter'] = stat['batter']\n",
    "normalized_stats['game_date'] = stat['game_date']\n",
    "normalized_stats['PA'] = stat['PA']\n",
    "# For each metric, calculate normalized values based on bin means\n",
    "for metric in ['Swing%', 'chase_shadow_value', 'swing_value']:\n",
    "    # Get the bin means for the current metric\n",
    "    bin_means = swing_analysis[metric]\n",
    "    \n",
    "    # Calculate normalized values (100 + percentage difference from bin mean * 100)\n",
    "    normalized_stats[f'normalized_{metric}'] = stat.apply(\n",
    "        lambda row: 100 * (1 + (row[metric] - bin_means[row['swing_bin_number'] - 1]) / bin_means[row['swing_bin_number'] - 1]),\n",
    "        axis=1\n",
    "    )"
   ]
  },
  {
   "cell_type": "code",
   "execution_count": 39,
   "id": "dc4d1688",
   "metadata": {},
   "outputs": [],
   "source": [
    "stat['normalized_chase'] = normalized_stats['normalized_chase_shadow_value']\n",
    "stat = stat.drop(columns=['swing_bin_number', 'Swing%'])\n",
    "stat = stat[stat['PA'] > 50]"
   ]
  },
  {
   "cell_type": "code",
   "execution_count": 40,
   "id": "399860cd",
   "metadata": {},
   "outputs": [],
   "source": [
    "stat.to_csv('./data/stat_values/swing_bin.csv')"
   ]
  }
 ],
 "metadata": {
  "kernelspec": {
   "display_name": "base",
   "language": "python",
   "name": "python3"
  },
  "language_info": {
   "codemirror_mode": {
    "name": "ipython",
    "version": 3
   },
   "file_extension": ".py",
   "mimetype": "text/x-python",
   "name": "python",
   "nbconvert_exporter": "python",
   "pygments_lexer": "ipython3",
   "version": "3.12.7"
  }
 },
 "nbformat": 4,
 "nbformat_minor": 5
}
