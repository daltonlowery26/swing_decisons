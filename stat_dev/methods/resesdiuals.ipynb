{
 "cells": [
  {
   "cell_type": "markdown",
   "id": "61ecfff7",
   "metadata": {},
   "source": [
    "#### xgb model that combines swing chase value, swing percent, and z-contact%"
   ]
  },
  {
   "cell_type": "code",
   "execution_count": 1,
   "id": "c5c65b83",
   "metadata": {},
   "outputs": [],
   "source": [
    "import pandas as pd\n",
    "import matplotlib as plt\n",
    "import numpy as np\n",
    "import statsmodels.api as sm\n",
    "import os \n",
    "os.chdir('C:/Users/dalto/OneDrive/Pictures/Documents/Projects/Active/Swing Decisons/')"
   ]
  },
  {
   "cell_type": "markdown",
   "id": "0a4e9aae",
   "metadata": {},
   "source": [
    "import data"
   ]
  },
  {
   "cell_type": "code",
   "execution_count": 2,
   "id": "02310553",
   "metadata": {},
   "outputs": [],
   "source": [
    "swing_data = pd.read_csv('./data/batter_data/plate_15_24.csv')\n",
    "swing_value = pd.read_csv('./data/stat_values/swing_values.csv')"
   ]
  },
  {
   "cell_type": "markdown",
   "id": "859ac335",
   "metadata": {},
   "source": [
    "clean names for matching"
   ]
  },
  {
   "cell_type": "code",
   "execution_count": 3,
   "id": "66dc4afd",
   "metadata": {},
   "outputs": [
    {
     "name": "stderr",
     "output_type": "stream",
     "text": [
      "<>:17: SyntaxWarning: invalid escape sequence '\\s'\n",
      "<>:17: SyntaxWarning: invalid escape sequence '\\s'\n",
      "C:\\Users\\dalto\\AppData\\Local\\Temp\\ipykernel_27672\\2103764149.py:17: SyntaxWarning: invalid escape sequence '\\s'\n",
      "  df[name_col] = df[name_col].str.replace('[^a-z ]', '', regex=True).str.replace('\\s+', ' ', regex=True)\n"
     ]
    }
   ],
   "source": [
    "import unicodedata\n",
    "\n",
    "def clean_names(df, name_col):\n",
    "    # Make a copy to avoid modifying the original DataFrame\n",
    "    df = df.copy()\n",
    "    \n",
    "    # Convert to lowercase and remove leading/trailing whitespace\n",
    "    df[name_col] = df[name_col].str.lower().str.strip()\n",
    "    \n",
    "    # Remove accents\n",
    "    df[name_col] = df[name_col].apply(lambda x: ''.join(\n",
    "        c for c in unicodedata.normalize('NFKD', str(x))\n",
    "        if not unicodedata.combining(c)\n",
    "    ))\n",
    "    \n",
    "    # Keep only letters and replace multiple spaces with single space\n",
    "    df[name_col] = df[name_col].str.replace('[^a-z ]', '', regex=True).str.replace('\\s+', ' ', regex=True)\n",
    "    \n",
    "    return df"
   ]
  },
  {
   "cell_type": "code",
   "execution_count": 4,
   "id": "81688872",
   "metadata": {},
   "outputs": [],
   "source": [
    "swing_data = clean_names(swing_data, 'Name')\n",
    "swing_value = clean_names(swing_value, 'batter')\n",
    "batter_ball = clean_names(pd.read_csv('./data/batter_data/batted_ball_2024.csv'), 'Name')"
   ]
  },
  {
   "cell_type": "code",
   "execution_count": 6,
   "id": "d5cf34f9",
   "metadata": {},
   "outputs": [],
   "source": [
    "df = swing_data.merge(swing_value[['game_date','batter','chase_shadow_value', 'overall_value']], \n",
    "                      left_on=['Season','Name'], right_on=['game_date', 'batter'], how='left')"
   ]
  },
  {
   "cell_type": "code",
   "execution_count": 7,
   "id": "213af54b",
   "metadata": {},
   "outputs": [],
   "source": [
    "df = df.merge(batter_ball, on=['Name'], how='right')\n",
    "df = df[df['chase_shadow_value'].notna()]\n",
    "df = df[['batter', 'PA', 'game_date','chase_shadow_value', 'overall_value', 'Swing%', 'Contact%', 'whiff_percent']]\n",
    "df = df[df['game_date'] == 2024]"
   ]
  },
  {
   "cell_type": "code",
   "execution_count": 8,
   "id": "f16bdd53",
   "metadata": {},
   "outputs": [
    {
     "name": "stdout",
     "output_type": "stream",
     "text": [
      "                            OLS Regression Results                            \n",
      "==============================================================================\n",
      "Dep. Variable:     chase_shadow_value   R-squared:                       0.619\n",
      "Model:                            OLS   Adj. R-squared:                  0.617\n",
      "Method:                 Least Squares   F-statistic:                     393.7\n",
      "Date:                Fri, 16 May 2025   Prob (F-statistic):          2.67e-102\n",
      "Time:                        13:56:07   Log-Likelihood:                -1559.9\n",
      "No. Observations:                 488   AIC:                             3126.\n",
      "Df Residuals:                     485   BIC:                             3138.\n",
      "Df Model:                           2                                         \n",
      "Covariance Type:            nonrobust                                         \n",
      "=================================================================================\n",
      "                    coef    std err          t      P>|t|      [0.025      0.975]\n",
      "---------------------------------------------------------------------------------\n",
      "const           169.9742      2.595     65.510      0.000     164.876     175.072\n",
      "Swing%         -152.5180      5.515    -27.654      0.000    -163.355    -141.682\n",
      "whiff_percent     0.1091      0.043      2.565      0.011       0.026       0.193\n",
      "==============================================================================\n",
      "Omnibus:                        4.475   Durbin-Watson:                   2.131\n",
      "Prob(Omnibus):                  0.107   Jarque-Bera (JB):                4.612\n",
      "Skew:                           0.151   Prob(JB):                       0.0997\n",
      "Kurtosis:                       3.368   Cond. No.                         595.\n",
      "==============================================================================\n",
      "\n",
      "Notes:\n",
      "[1] Standard Errors assume that the covariance matrix of the errors is correctly specified.\n"
     ]
    }
   ],
   "source": [
    "Y_Chase = df['chase_shadow_value']\n",
    "X_swing = df['Swing%']\n",
    "X_whiff = df['whiff_percent']\n",
    "X_swing = sm.add_constant(X_swing) # Add intercept\n",
    "\n",
    "model_for_residuals = sm.OLS(Y_Chase, pd.concat([X_swing, X_whiff], axis=1))\n",
    "results_for_residuals = model_for_residuals.fit()\n",
    "       \n",
    "print(results_for_residuals.summary())\n",
    "df['adj_chase_shadow_value'] = results_for_residuals.resid\n"
   ]
  },
  {
   "cell_type": "code",
   "execution_count": 10,
   "id": "ce90f7b0",
   "metadata": {},
   "outputs": [
    {
     "name": "stdout",
     "output_type": "stream",
     "text": [
      "                            OLS Regression Results                            \n",
      "==============================================================================\n",
      "Dep. Variable:          overall_value   R-squared:                       0.061\n",
      "Model:                            OLS   Adj. R-squared:                  0.058\n",
      "Method:                 Least Squares   F-statistic:                     15.87\n",
      "Date:                Fri, 16 May 2025   Prob (F-statistic):           2.10e-07\n",
      "Time:                        13:56:17   Log-Likelihood:                -1738.9\n",
      "No. Observations:                 488   AIC:                             3484.\n",
      "Df Residuals:                     485   BIC:                             3496.\n",
      "Df Model:                           2                                         \n",
      "Covariance Type:            nonrobust                                         \n",
      "=================================================================================\n",
      "                    coef    std err          t      P>|t|      [0.025      0.975]\n",
      "---------------------------------------------------------------------------------\n",
      "const           120.4089      3.745     32.154      0.000     113.051     127.767\n",
      "Swing%          -41.8412      7.960     -5.257      0.000     -57.481     -26.201\n",
      "whiff_percent    -0.0369      0.061     -0.601      0.548      -0.158       0.084\n",
      "==============================================================================\n",
      "Omnibus:                        2.575   Durbin-Watson:                   2.207\n",
      "Prob(Omnibus):                  0.276   Jarque-Bera (JB):                2.681\n",
      "Skew:                          -0.045   Prob(JB):                        0.262\n",
      "Kurtosis:                       3.352   Cond. No.                         595.\n",
      "==============================================================================\n",
      "\n",
      "Notes:\n",
      "[1] Standard Errors assume that the covariance matrix of the errors is correctly specified.\n",
      "\n",
      "Correlation 0.0000\n"
     ]
    }
   ],
   "source": [
    "Y_Chase = df['overall_value']\n",
    "X_swing = df['Swing%']\n",
    "X_whiff = df['whiff_percent']\n",
    "X_swing = sm.add_constant(X_swing) # Add intercept\n",
    "\n",
    "model_for_residuals = sm.OLS(Y_Chase, pd.concat([X_swing, X_whiff], axis=1))\n",
    "results_for_residuals = model_for_residuals.fit()\n",
    "\n",
    "        \n",
    "print(results_for_residuals.summary())\n",
    "\n",
    "df['adj_swing_value'] = results_for_residuals.resid \n",
    "correlation = df['adj_swing_value'].corr(df['Swing%'])\n",
    "print(f\"\\nCorrelation {correlation:.4f}\")"
   ]
  },
  {
   "cell_type": "code",
   "execution_count": 11,
   "id": "b45796c8",
   "metadata": {},
   "outputs": [],
   "source": [
    "df = df[df['PA'] > 25]\n",
    "df = df[['batter','adj_chase_shadow_value', 'adj_swing_value']]"
   ]
  },
  {
   "cell_type": "code",
   "execution_count": 12,
   "id": "9b31bebe",
   "metadata": {},
   "outputs": [],
   "source": [
    "df.to_csv('./data/stat_values/swing_adj_data.csv')"
   ]
  }
 ],
 "metadata": {
  "kernelspec": {
   "display_name": "base",
   "language": "python",
   "name": "python3"
  },
  "language_info": {
   "codemirror_mode": {
    "name": "ipython",
    "version": 3
   },
   "file_extension": ".py",
   "mimetype": "text/x-python",
   "name": "python",
   "nbconvert_exporter": "python",
   "pygments_lexer": "ipython3",
   "version": "3.12.7"
  }
 },
 "nbformat": 4,
 "nbformat_minor": 5
}
