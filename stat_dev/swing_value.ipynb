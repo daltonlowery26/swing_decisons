{
 "cells": [
  {
   "cell_type": "markdown",
   "id": "8d88ee98",
   "metadata": {},
   "source": [
    "#### woba value by pitch type and zone"
   ]
  },
  {
   "cell_type": "code",
   "execution_count": null,
   "id": "cab5e0ac",
   "metadata": {},
   "outputs": [],
   "source": [
    "import pandas as pd \n",
    "import numpy as np\n",
    "import os\n",
    "import matplotlib.pyplot as plt\n",
    "os.chdir('C:/Users/dalto/OneDrive/Pictures/Documents/Projects/Swing Decisons')"
   ]
  },
  {
   "cell_type": "code",
   "execution_count": null,
   "id": "0b6e8eb0",
   "metadata": {},
   "outputs": [],
   "source": [
    "df = pd.read_csv('./data/final_datasets/pitch_21_24.csv')"
   ]
  },
  {
   "cell_type": "markdown",
   "id": "070fab92",
   "metadata": {},
   "source": [
    "#### Grouping by Pitch Type"
   ]
  },
  {
   "cell_type": "code",
   "execution_count": null,
   "id": "5398c5c2",
   "metadata": {},
   "outputs": [],
   "source": [
    "df['game_date'] = pd.to_datetime(df['game_date']).dt.year"
   ]
  },
  {
   "cell_type": "code",
   "execution_count": null,
   "id": "1ae3ce61",
   "metadata": {},
   "outputs": [],
   "source": [
    "df = df[df['pitch_name'] != 'Pitch Out']"
   ]
  },
  {
   "cell_type": "code",
   "execution_count": null,
   "id": "3bc811e9",
   "metadata": {},
   "outputs": [],
   "source": [
    "pitch_groups = {\n",
    "    'curveballs': ['Curveball', 'Knuckle Curve', 'Slow Curve'],\n",
    "    'sliders_sweepers': ['Slider', 'Sweeper', 'Slurve'],\n",
    "    'screwball': ['Screwball'],\n",
    "\n",
    "    'split_grip': ['Split-Finger', 'Forkball'],\n",
    "    'changeups': ['Changeup'],\n",
    "\n",
    "    'four_seam': ['4-Seam Fastball'],\n",
    "    'sinkers': ['Sinker'],\n",
    "    'cutters': ['Cutter']\n",
    "}\n",
    "# in the df pitch name col change pitch names to this dicty above\n",
    "def map_pitch_group(pitch):\n",
    "    for group, names in pitch_groups.items():\n",
    "        if pitch in names:\n",
    "            return group\n",
    "    return 'other'\n",
    "\n",
    "df['pitch_group'] = df['pitch_name'].apply(map_pitch_group)"
   ]
  },
  {
   "cell_type": "markdown",
   "id": "0ac647b9",
   "metadata": {},
   "source": [
    "#### Adding Ball of Strike"
   ]
  },
  {
   "cell_type": "code",
   "execution_count": null,
   "id": "a3463381",
   "metadata": {},
   "outputs": [],
   "source": [
    "# create a new col called pos_s_b where if the plate vert is between sz_bot and sz_top for the row\n",
    "# and the plate_horz is between -.70833 and .70833 it is a strike, else it is a ball\n",
    "df['pos_strike_ball'] = df.apply(\n",
    "    lambda row: 'strike' if (row['sz_bot'] <= row['plate_vert'] <= row['sz_top'] and -0.833333 <= row['plate_horz'] <= 0.83333) else 'ball',\n",
    "    axis=1\n",
    ")"
   ]
  },
  {
   "cell_type": "markdown",
   "id": "68656665",
   "metadata": {},
   "source": [
    "#### woba value for strike and ball\n",
    "woba following each count, for 2-1 count average of 3-1, 3-2, 2-2"
   ]
  },
  {
   "cell_type": "code",
   "execution_count": null,
   "id": "5fbb5aca",
   "metadata": {},
   "outputs": [],
   "source": [
    "# Create a 'count' column as a string, e.g., '2-1'\n",
    "df['count'] = df['balls'].astype(str) + '-' + df['strikes'].astype(str)\n",
    "\n",
    "# Manually define the next_counts mapping for all possible counts (balls-strikes)\n",
    "next_counts = {\n",
    "    '0-0': ['0-0', '0-1', '0-2', '1-0', '1-1', '1-2', '2-0', '2-1', '2-2', '3-0', '3-1', '3-2'],\n",
    "    '0-1': ['0-1', '0-2', '1-1', '1-2', '2-1', '2-2', '3-1', '3-2'],\n",
    "    '0-2': ['0-2', '1-2', '2-2', '3-2'],\n",
    "    '1-0': ['1-0', '1-1', '1-2', '2-0', '2-1', '2-2', '3-0', '3-1', '3-2'],\n",
    "    '1-1': ['1-1', '1-2', '2-1', '2-2', '3-1', '3-2'],\n",
    "    '1-2': ['1-2', '2-2', '3-2'],\n",
    "    '2-0': ['2-0', '2-1', '2-2', '3-0', '3-1', '3-2'],\n",
    "    '2-1': ['2-1', '2-2', '3-1', '3-2'],\n",
    "    '2-2': ['2-2', '3-2'],\n",
    "    '3-0': ['3-0', '3-1', '3-2'],\n",
    "    '3-1': ['3-1', '3-2'],\n",
    "    '3-2': ['3-2'],\n",
    "}\n",
    "\n",
    "\n",
    "mean_xwoba_by_count = df.groupby(['count']).agg(\n",
    "    xwoba=('xwoba', 'mean'),\n",
    "    amount=('count', 'size')\n",
    ").reset_index()\n",
    "mean_xwoba_by_count = mean_xwoba_by_count[mean_xwoba_by_count['amount'] > 100]\n",
    "\n"
   ]
  },
  {
   "cell_type": "code",
   "execution_count": null,
   "id": "ec35fb0e",
   "metadata": {},
   "outputs": [],
   "source": [
    "# For each count, calculate the weighted mean of the next counts' xwoba using the 'amount' column as weights\n",
    "mean_next_xwoba = {}\n",
    "for count, nexts in next_counts.items():\n",
    "    values = [(mean_xwoba_by_count.loc[mean_xwoba_by_count['count'] == n, 'xwoba'].values[0], \n",
    "               mean_xwoba_by_count.loc[mean_xwoba_by_count['count'] == n, 'amount'].values[0]) \n",
    "              for n in nexts if n in mean_xwoba_by_count['count'].values]\n",
    "    if values:\n",
    "        total_weight = sum(weight for _, weight in values)\n",
    "        mean_next_xwoba[count] = sum(xwoba * weight for xwoba, weight in values) / total_weight if total_weight > 0 else np.nan\n",
    "    else:\n",
    "        mean_next_xwoba[count] = np.nan\n",
    "\n",
    "# Convert to DataFrame for easier viewing\n",
    "mean_next_xwoba_df = pd.DataFrame(list(mean_next_xwoba.items()), columns=['count', 'mean_next_xwoba'])\n",
    "mean_next_xwoba_df\n",
    "   \n"
   ]
  },
  {
   "cell_type": "code",
   "execution_count": null,
   "id": "3f7151f0",
   "metadata": {},
   "outputs": [],
   "source": [
    "mean_next_xwoba_dfp = mean_next_xwoba_df.drop(0, axis=0)\n",
    "# Create figure and axis with specific size\n",
    "fig, ax = plt.subplots(figsize=(8, 6))\n",
    "\n",
    "# Hide axes\n",
    "ax.xaxis.set_visible(False)\n",
    "ax.yaxis.set_visible(False)\n",
    "\n",
    "# Create table\n",
    "table = ax.table(\n",
    "    cellText=mean_next_xwoba_dfp.round(3).values,\n",
    "    colLabels=mean_next_xwoba_dfp.columns,\n",
    "    cellLoc='center',\n",
    "    loc='center',\n",
    "    bbox=[0, 0, 1, 1]\n",
    ")\n",
    "\n",
    "# Style the table\n",
    "table.auto_set_font_size(False)\n",
    "table.set_fontsize(9)\n",
    "table.scale(1.2, 1.5)\n",
    "\n",
    "# Color header\n",
    "for k, cell in table._cells.items():\n",
    "    if k[0] == 0:  # Header\n",
    "        cell.set_facecolor('#4472C4')\n",
    "        cell.set_text_props(weight='bold', color='white')\n",
    "    else:  # Data cells\n",
    "        cell.set_facecolor('#E6F1FF' if k[0] % 2 == 0 else 'white')\n",
    "\n",
    "plt.title('Expected xwOBA by Count', pad=20)\n"
   ]
  },
  {
   "cell_type": "markdown",
   "id": "ff11ce4b",
   "metadata": {},
   "source": [
    "#### Pitch Attack Zones"
   ]
  },
  {
   "cell_type": "code",
   "execution_count": null,
   "id": "e3d6f4a5",
   "metadata": {},
   "outputs": [],
   "source": [
    "# Assume 'df' is your DataFrame\n",
    "# Pre-calculate bounds for clarity and slight efficiency\n",
    "vert_bounds = [\n",
    "    df['sz_top'] * 0.7744, # Lower bound for zones 1, 2, 3 # 0\n",
    "    df['sz_top'] * 0.9,    # Upper bound for zones 1, 2, 3, bottom for chase\n",
    "    df['sz_top'] * 0.6488, # Lower bound for zones 4, 5, 6\n",
    "    df['sz_top'] * 0.7744, # Upper bound for zones 4, 5, 6 (same as lower for 1,2,3)\n",
    "    df['sz_top'] * 0.5232, # Lower bound for zones 7, 8, 9, top for cgase zibe\n",
    "    df['sz_top'] * 0.6488, # Upper bound for zones 7, 8, 9 (same as lower for 4,5,6)\n",
    "    df['sz_top'] * 1.1, # top for chase zone,\n",
    "    df['sz_top'] * .333 # bottom for chase zone \n",
    "]\n",
    "horz_bounds = [\n",
    "    -6.7 / 12, #0\n",
    "    -2.2333 / 12,\n",
    "    2.2333 / 12,\n",
    "    6.7 / 12,\n",
    "    -13.3/12, #4\n",
    "    -7.98/12,\n",
    "    -2.66/12,\n",
    "    2.66/12, #7\n",
    "    7.98/12,\n",
    "    13.3/12,\n",
    "    0\n",
    "]\n",
    "\n",
    "# Define the conditions using vectorized comparisons on columns\n",
    "conditions = [\n",
    "    (vert_bounds[0] <= df['plate_vert']) & (df['plate_vert'] <= vert_bounds[1]) & (horz_bounds[0] <= df['plate_horz']) & (df['plate_horz'] <= horz_bounds[1]), # Zone 1\n",
    "    (vert_bounds[0] <= df['plate_vert']) & (df['plate_vert'] <= vert_bounds[1]) & (horz_bounds[1] <= df['plate_horz']) & (df['plate_horz'] <= horz_bounds[2]), # Zone 2\n",
    "    (vert_bounds[0] <= df['plate_vert']) & (df['plate_vert'] <= vert_bounds[1]) & (horz_bounds[2] <= df['plate_horz']) & (df['plate_horz'] <= horz_bounds[3]), # Zone 3\n",
    "    (vert_bounds[2] <= df['plate_vert']) & (df['plate_vert'] <= vert_bounds[3]) & (horz_bounds[0] <= df['plate_horz']) & (df['plate_horz'] <= horz_bounds[1]), # Zone 4\n",
    "    (vert_bounds[2] <= df['plate_vert']) & (df['plate_vert'] <= vert_bounds[3]) & (horz_bounds[1] <= df['plate_horz']) & (df['plate_horz'] <= horz_bounds[2]), # Zone 5\n",
    "    (vert_bounds[2] <= df['plate_vert']) & (df['plate_vert'] <= vert_bounds[3]) & (horz_bounds[2] <= df['plate_horz']) & (df['plate_horz'] <= horz_bounds[3]), # Zone 6\n",
    "    (vert_bounds[4] <= df['plate_vert']) & (df['plate_vert'] <= vert_bounds[5]) & (horz_bounds[0] <= df['plate_horz']) & (df['plate_horz'] <= horz_bounds[1]), # Zone 7\n",
    "    (vert_bounds[4] <= df['plate_vert']) & (df['plate_vert'] <= vert_bounds[5]) & (horz_bounds[1] <= df['plate_horz']) & (df['plate_horz'] <= horz_bounds[2]), # Zone 8\n",
    "    (vert_bounds[4] <= df['plate_vert']) & (df['plate_vert'] <= vert_bounds[5]) & (horz_bounds[2] <= df['plate_horz']) & (df['plate_horz'] <= horz_bounds[3]), # Zone 9\n",
    "\n",
    "    (vert_bounds[1] <= df['plate_vert']) & (df['plate_vert'] <= vert_bounds[6]) & (horz_bounds[4] <= df['plate_horz']) & (df['plate_horz'] <= horz_bounds[5]), # Zone 10\n",
    "    (vert_bounds[1] <= df['plate_vert']) & (df['plate_vert'] <= vert_bounds[6]) & (horz_bounds[5] <= df['plate_horz']) & (df['plate_horz'] <= horz_bounds[6]), # Zone 11\n",
    "    (vert_bounds[1] <= df['plate_vert']) & (df['plate_vert'] <= vert_bounds[6]) & (horz_bounds[6] <= df['plate_horz']) & (df['plate_horz'] <= horz_bounds[7]), # Zone 12\n",
    "    (vert_bounds[1] <= df['plate_vert']) & (df['plate_vert'] <= vert_bounds[6]) & (horz_bounds[7] <= df['plate_horz']) & (df['plate_horz'] <= horz_bounds[8]), # Zone 13\n",
    "    (vert_bounds[1] <= df['plate_vert']) & (df['plate_vert'] <= vert_bounds[6]) & (horz_bounds[8] <= df['plate_horz']) & (df['plate_horz'] <= horz_bounds[9]), # Zone 14\n",
    "\n",
    "    (vert_bounds[7] <= df['plate_vert']) & (df['plate_vert'] <= vert_bounds[4]) & (horz_bounds[4] <= df['plate_horz']) & (df['plate_horz'] <= horz_bounds[5]), # Zone 15\n",
    "    (vert_bounds[7] <= df['plate_vert']) & (df['plate_vert'] <= vert_bounds[4]) & (horz_bounds[5] <= df['plate_horz']) & (df['plate_horz'] <= horz_bounds[6]), # Zone 16\n",
    "    (vert_bounds[7] <= df['plate_vert']) & (df['plate_vert'] <= vert_bounds[4]) & (horz_bounds[6] <= df['plate_horz']) & (df['plate_horz'] <= horz_bounds[7]), # Zone 17\n",
    "    (vert_bounds[7] <= df['plate_vert']) & (df['plate_vert'] <= vert_bounds[4]) & (horz_bounds[7] <= df['plate_horz']) & (df['plate_horz'] <= horz_bounds[8]), # Zone 18\n",
    "    (vert_bounds[7] <= df['plate_vert']) & (df['plate_vert'] <= vert_bounds[4]) & (horz_bounds[8] <= df['plate_horz']) & (df['plate_horz'] <= horz_bounds[9]), # Zone 19\n",
    "\n",
    "    (vert_bounds[4] <= df['plate_vert']) & (df['plate_vert'] <= vert_bounds[2]) & (horz_bounds[3] <= df['plate_horz']) & (df['plate_horz'] <= horz_bounds[9]), # Zone 20\n",
    "    (vert_bounds[2] <= df['plate_vert']) & (df['plate_vert'] <= vert_bounds[0]) & (horz_bounds[3] <= df['plate_horz']) & (df['plate_horz'] <= horz_bounds[9]), # Zone 21\n",
    "    (vert_bounds[0] <= df['plate_vert']) & (df['plate_vert'] <= vert_bounds[1]) & (horz_bounds[3] <= df['plate_horz']) & (df['plate_horz'] <= horz_bounds[9]), # Zone 22\n",
    "\n",
    "    (vert_bounds[4] <= df['plate_vert']) & (df['plate_vert'] <= vert_bounds[2]) & (horz_bounds[4] <= df['plate_horz']) & (df['plate_horz'] <= horz_bounds[0]), # Zone 23\n",
    "    (vert_bounds[2] <= df['plate_vert']) & (df['plate_vert'] <= vert_bounds[0]) & (horz_bounds[4] <= df['plate_horz']) & (df['plate_horz'] <= horz_bounds[0]), # Zone 24\n",
    "    (vert_bounds[0] <= df['plate_vert']) & (df['plate_vert'] <= vert_bounds[1]) & (horz_bounds[4] <= df['plate_horz']) & (df['plate_horz'] <= horz_bounds[0]), # Zone 25\n",
    "\n",
    "    (df['plate_horz'] <= horz_bounds[4]) & (df['plate_vert'] <= vert_bounds[2]), # Zone 26\n",
    "    (df['plate_horz'] <= horz_bounds[4]) & (df['plate_vert'] > vert_bounds[2]), # Zone 27\n",
    "\n",
    "    (vert_bounds[6] <= df['plate_vert']) & (horz_bounds[4] <= df['plate_horz']) & (df['plate_horz'] <= horz_bounds[10]), #28\n",
    "    (vert_bounds[6] <= df['plate_vert']) & (df['plate_horz'] >= horz_bounds[0]) & (df['plate_horz'] <= horz_bounds[9]), # Zone 29\n",
    "    (horz_bounds[4] <= df['plate_horz']) & (df['plate_horz'] <= horz_bounds[10]) & (df['plate_vert'] <= vert_bounds[2]), # Zone 30\n",
    "\n",
    "    (df['plate_horz'] >= horz_bounds[9]) & (df['plate_vert'] >= vert_bounds[2]), # 31\n",
    "    (df['plate_horz'] >= horz_bounds[9]) & (df['plate_vert'] <= vert_bounds[2]), # 32\n",
    "\n",
    "    (vert_bounds[7] >= df['plate_vert']) & (horz_bounds[4] <= df['plate_horz']) & (df['plate_horz'] <= horz_bounds[9]) # Zone 33\n",
    "\n",
    "\n",
    "    \n",
    "]\n",
    "\n",
    "# Define the corresponding values for each condition\n",
    "choices = [1, 2, 3, 4, 5, 6, 7, 8, 9, 10, 11 ,12, 13, 14, 15, 16, 17, 18, 19, 20, 21, 22, 23, 24, 25, 26, 27, 28, 29, 30, 31, 32, 33]\n",
    "\n",
    "df['nzone'] = np.select(conditions, choices, default=0) "
   ]
  },
  {
   "cell_type": "markdown",
   "id": "d3625eaf",
   "metadata": {},
   "source": [
    "#### Pitches in Zone Plotted"
   ]
  },
  {
   "cell_type": "code",
   "execution_count": null,
   "id": "fa884793",
   "metadata": {},
   "outputs": [],
   "source": [
    "import random\n",
    "\n",
    "strike_zone_left = -0.833  # -10 inches in feet\n",
    "strike_zone_right = 0.833  # +10 inches in feet\n",
    "strike_zone_top = 3.5\n",
    "strike_zone_bottom = 1.5\n",
    "\n",
    "# Plot the strike zone as a rectangle\n",
    "plt.gca().add_patch(\n",
    "    plt.Rectangle(\n",
    "        (strike_zone_left, strike_zone_bottom),\n",
    "        strike_zone_right - strike_zone_left,\n",
    "        strike_zone_top - strike_zone_bottom,\n",
    "        fill=False, edgecolor='black', linewidth=2, linestyle='-', label='Strike Zone'\n",
    "    )\n",
    ")\n",
    "\n",
    "\n",
    "df_judge = df[df['batter'] == 'mike trout']\n",
    "\n",
    "unique_zones = sorted(df_judge['nzone'].unique())\n",
    "cmap = plt.get_cmap('tab20', len(unique_zones))\n",
    "\n",
    "# Shuffle color assignments to maximize contrast between adjacent zones\n",
    "shuffled_indices = list(range(len(unique_zones)))\n",
    "random.seed(987654)  # For reproducibility\n",
    "random.shuffle(shuffled_indices)\n",
    "zone_colors = {zone: cmap(shuffled_indices[i]) for i, zone in enumerate(unique_zones)}\n",
    "\n",
    "for zone in unique_zones:\n",
    "    subset = df_judge[df_judge['nzone'] == zone]\n",
    "    plt.scatter(\n",
    "        subset['plate_horz'], subset['plate_vert'],\n",
    "        color=zone_colors[zone], label=f'Zone {zone}',\n",
    "        alpha=0.4, s=10\n",
    "    )\n",
    "\n",
    "plt.xlabel('Plate Horizontal Location')\n",
    "plt.ylabel('Plate Vertical Location')\n",
    "plt.ylim(0, 4.5)\n",
    "plt.xlim(-2.25, 2.25)\n",
    "# Calculate and add text annotations for each zone\n",
    "for zone in unique_zones:\n",
    "    subset = df_judge[df_judge['nzone'] == zone]\n",
    "    if len(subset) > 0:\n",
    "        # Calculate average position for each zone\n",
    "        avg_x = subset['plate_horz'].mean()\n",
    "        avg_y = subset['plate_vert'].mean()\n",
    "        # Add text with zone number\n",
    "        plt.text(avg_x, avg_y, str(zone), fontsize=8, ha='center', va='center', \n",
    "                bbox=dict(facecolor='white', alpha=0.7, edgecolor='none'))\n",
    "plt.title('Pitch Locations by Zone')\n",
    "plt.show()\n"
   ]
  },
  {
   "cell_type": "markdown",
   "id": "40bd6ef9",
   "metadata": {},
   "source": [
    "#### groupby pitch and zone\n",
    "the xwoba value of swinging at a pitch in a zone by batter"
   ]
  },
  {
   "cell_type": "code",
   "execution_count": null,
   "id": "4b3ac9eb",
   "metadata": {},
   "outputs": [],
   "source": [
    "df['zone'] = df['nzone']\n",
    "df['description'].unique()"
   ]
  },
  {
   "cell_type": "code",
   "execution_count": null,
   "id": "527f3302",
   "metadata": {},
   "outputs": [],
   "source": [
    "df_play = df[(df['description'] == 'swinging_strike') \n",
    "             | (df['description'] == 'swinging_strike_blocked') | \n",
    "             (df['description'] == 'hit_into_play') ]\n",
    "df_play['xwoba'] = df_play['xwoba'].fillna(0)\n",
    "df_play = df_play[df_play['pitch_group'] != 'other']"
   ]
  },
  {
   "cell_type": "code",
   "execution_count": null,
   "id": "52480b91",
   "metadata": {},
   "outputs": [],
   "source": [
    "df_left = df_play[df_play['b_stands'] != 'R']\n",
    "df_right = df_play[df_play['b_stands'] != 'L']"
   ]
  },
  {
   "cell_type": "code",
   "execution_count": null,
   "id": "45fa53bb",
   "metadata": {},
   "outputs": [],
   "source": [
    "woba_zone_pitch_countL = df_left.groupby(['zone', 'pitch_group'])['xwoba'].mean()\n",
    "woba_zone_pitch_countL = woba_zone_pitch_countL.to_frame().reset_index()\n",
    "woba_zone_pitch_countL['instances'] = df_left.groupby(['zone', 'pitch_group'])['xwoba'].count().values\n",
    "woba_zone_pitch_countL = woba_zone_pitch_countL.reset_index()"
   ]
  },
  {
   "cell_type": "code",
   "execution_count": null,
   "id": "0780f137",
   "metadata": {},
   "outputs": [],
   "source": [
    "woba_zone_pitch_countR = df_right.groupby(['zone', 'pitch_group'])['xwoba'].mean()\n",
    "woba_zone_pitch_countR = woba_zone_pitch_countR.to_frame().reset_index()\n",
    "woba_zone_pitch_countR['instances'] = df_right.groupby(['zone', 'pitch_group'])['xwoba'].count().values\n",
    "woba_zone_pitch_countR = woba_zone_pitch_countR.reset_index()"
   ]
  },
  {
   "cell_type": "markdown",
   "id": "0acb2c72",
   "metadata": {},
   "source": [
    "### Mapping to df "
   ]
  },
  {
   "cell_type": "code",
   "execution_count": null,
   "id": "eec7582c",
   "metadata": {},
   "outputs": [],
   "source": [
    "df_results = df.copy()\n",
    "df_results = df_results.drop(columns=['Unnamed: 0', 'pitch_type', 'pitch_name', 'plate_horz', 'plate_vert','sz_top','sz_bot'])"
   ]
  },
  {
   "cell_type": "code",
   "execution_count": null,
   "id": "e055e479",
   "metadata": {},
   "outputs": [],
   "source": [
    "# Map the xwoba value from woba_zone_pitch_countL to df for left-handed batters\n",
    "woba_zone_pitch_countL_keyed = woba_zone_pitch_countL.set_index(['pitch_group', 'zone'])['xwoba']\n",
    "\n",
    "mask_left = df['b_stands'] == 'L'\n",
    "df_results.loc[mask_left, 'zone_pitch_xwoba'] = df_results.loc[mask_left].apply(\n",
    "    lambda row: woba_zone_pitch_countL_keyed.get((row['pitch_group'], row['zone']), np.nan), axis=1\n",
    ")\n",
    "\n",
    "\n",
    "woba_zone_pitch_countR_keyed = woba_zone_pitch_countR.set_index(['pitch_group', 'zone'])['xwoba']\n",
    "\n",
    "mask_right = df['b_stands'] == 'R'\n",
    "df_results.loc[mask_right, 'zone_pitch_xwoba'] = df_results.loc[mask_right].apply(\n",
    "    lambda row: woba_zone_pitch_countR_keyed.get(( row['pitch_group'], row['zone']), np.nan), axis=1\n",
    ")"
   ]
  },
  {
   "cell_type": "markdown",
   "id": "ba255bca",
   "metadata": {},
   "source": [
    "add in if batter swing or take"
   ]
  },
  {
   "cell_type": "code",
   "execution_count": null,
   "id": "924ab248",
   "metadata": {},
   "outputs": [],
   "source": [
    "swing = {'swing':['foul_tip', 'foul', 'hit_into_play', 'swinging_strike', 'swinging_strike_blocked']}\n",
    "# add a new col in df_results called swing, if description == anything in swing dict make value of col Y if not make it n\n",
    "df_results['swing'] = df_results['description'].apply(lambda x: 'Y' if x in swing['swing'] else 'N')"
   ]
  },
  {
   "cell_type": "markdown",
   "id": "8b6cb356",
   "metadata": {},
   "source": [
    "count + 1 ev, so if you take the pitch what is expected woba from there"
   ]
  },
  {
   "cell_type": "code",
   "execution_count": null,
   "id": "d90313df",
   "metadata": {},
   "outputs": [],
   "source": [
    "# Create a new column 'count_next' based on 'type'\n",
    "def get_next_count(row):\n",
    "    balls, strikes = row['balls'], row['strikes']\n",
    "    if row['pos_strike_ball'] == 'strike':\n",
    "        # Add a strike, but max 2 strikes before next pitch\n",
    "        strikes_next = min(strikes + 1, 2) if (balls < 4 and strikes < 2) else strikes + 1\n",
    "        return f\"{balls}-{strikes_next}\"\n",
    "    elif row['pos_strike_ball'] == 'ball':\n",
    "        # Add a ball, but max 3 balls before next pitch\n",
    "        balls_next = min(balls + 1, 3) if (balls < 3 and strikes < 3) else balls + 1\n",
    "        return f\"{balls_next}-{strikes}\"\n",
    "    else:\n",
    "        return f\"{balls}-{strikes}\"\n",
    "\n",
    "df_results['count_next'] = df_results.apply(get_next_count, axis=1)"
   ]
  },
  {
   "cell_type": "markdown",
   "id": "ded20655",
   "metadata": {},
   "source": [
    "add expected woba after"
   ]
  },
  {
   "cell_type": "code",
   "execution_count": null,
   "id": "17184279",
   "metadata": {},
   "outputs": [],
   "source": [
    "df_results['exp_woba_after'] = df_results['count_next'].map(dict(zip(mean_next_xwoba_df['count'], mean_next_xwoba_df['mean_next_xwoba'])))"
   ]
  },
  {
   "cell_type": "code",
   "execution_count": null,
   "id": "d1e07fab",
   "metadata": {},
   "outputs": [],
   "source": [
    "df_results.loc[df_results['count_next'].str.endswith('-3'), 'exp_woba_after'] = 0\n",
    "df_results.loc[df_results['count_next'].str.startswith('4-'), 'exp_woba_after'] = 0.690\n",
    "#df_results = df_results[(df_results['exp_woba_after'] != 0) & (df_results['exp_woba_after'] != 0.69)]"
   ]
  },
  {
   "cell_type": "code",
   "execution_count": null,
   "id": "7e315072",
   "metadata": {},
   "outputs": [],
   "source": [
    "df_results['swing_value'] = df_results['zone_pitch_xwoba'] - df_results['exp_woba_after']"
   ]
  },
  {
   "cell_type": "markdown",
   "id": "e7f30539",
   "metadata": {},
   "source": [
    "### Analysis"
   ]
  },
  {
   "cell_type": "code",
   "execution_count": null,
   "id": "e162705a",
   "metadata": {},
   "outputs": [],
   "source": [
    "df_swing_value = df_results[['game_date', 'pitcher', 'batter', 'pitch_group', 'pos_strike_ball', 'count', 'count_next', 'zone_pitch_xwoba', 'swing', 'exp_woba_after', 'swing_value', 'zone']]"
   ]
  },
  {
   "cell_type": "markdown",
   "id": "f7bfdcbd",
   "metadata": {},
   "source": [
    "#### split into different zones"
   ]
  },
  {
   "cell_type": "code",
   "execution_count": null,
   "id": "f7e40228",
   "metadata": {},
   "outputs": [],
   "source": [
    "df_swing_value_chase_heart = df_swing_value[df_swing_value['zone'].isin([1, 2, 3, 4, 5, 6, 7, 8, 9, 10, 11 ,12, 13, 14, 15, 16, 17, 18, 19, 20, 21, 22, 23, 24, 25])]\n",
    "df_swing_value_chase_shadow = df_swing_value[df_swing_value['zone'].isin([10, 11 ,12, 13, 14, 15, 16, 17, 18, 19, 20, 21, 22, 23, 24, 25, 26, 27, 28, 29, 30, 31, 32, 33])]                         "
   ]
  },
  {
   "cell_type": "code",
   "execution_count": null,
   "id": "25ed252c",
   "metadata": {},
   "outputs": [],
   "source": [
    "df_swing_value_chase_shadow = df_swing_value_chase_shadow[df_swing_value_chase_shadow['pos_strike_ball'] == 'ball']\n",
    "df_swing_value_chase_heart = df_swing_value_chase_heart[df_swing_value_chase_heart['pos_strike_ball'] == 'strike']"
   ]
  },
  {
   "cell_type": "code",
   "execution_count": null,
   "id": "4fffd056",
   "metadata": {},
   "outputs": [],
   "source": [
    "#df_swing_value_chase_shadow = df_swing_value_chase_shadow[df_swing_value_chase_shadow['game_date'] == 2024]"
   ]
  },
  {
   "cell_type": "markdown",
   "id": "76809597",
   "metadata": {},
   "source": [
    "value by zone"
   ]
  },
  {
   "cell_type": "code",
   "execution_count": 74,
   "id": "11e4b990",
   "metadata": {},
   "outputs": [],
   "source": [
    "full_stats = pd.DataFrame()"
   ]
  },
  {
   "cell_type": "code",
   "execution_count": 75,
   "id": "0883fb5f",
   "metadata": {},
   "outputs": [
    {
     "name": "stderr",
     "output_type": "stream",
     "text": [
      "C:\\Users\\dalto\\AppData\\Local\\Temp\\ipykernel_25484\\4181453835.py:2: DeprecationWarning: DataFrameGroupBy.apply operated on the grouping columns. This behavior is deprecated, and in a future version of pandas the grouping columns will be excluded from the operation. Either pass `include_groups=False` to exclude the groupings or explicitly select the grouping columns after groupby to silence this warning.\n",
      "  batter_stats = df_swing_value_chase_shadow.groupby(['batter', 'game_date']).apply(\n"
     ]
    }
   ],
   "source": [
    "# Calculate sum of zone_pitch_xwoba for swings and exp_woba_after for takes, then average per batter\n",
    "batter_stats = df_swing_value_chase_shadow.groupby(['batter', 'game_date']).apply(\n",
    "    lambda g: pd.Series({\n",
    "        'sum_value': g.loc[g['swing'] == 'Y', 'zone_pitch_xwoba'].sum() + g.loc[g['swing'] == 'N', 'exp_woba_after'].sum(),\n",
    "        'num_pitches': len(g)\n",
    "    })\n",
    ")\n",
    "\n",
    "# average sum value\n",
    "batter_stats['chase_shadow_value'] = batter_stats['sum_value'] / batter_stats['num_pitches']\n",
    "batter_stats = batter_stats[(batter_stats['num_pitches'] > 50)].reset_index()\n",
    "\n",
    "# Standardize Value\n",
    "yearly_mean = batter_stats.groupby('game_date')['chase_shadow_value'].mean()\n",
    "batter_stats['chase_shadow_value'] = batter_stats.apply(\n",
    "    lambda row: (row['chase_shadow_value'] / yearly_mean[row['game_date']]) * 100, axis=1)\n",
    "\n",
    "batter_stats = batter_stats[['batter', 'game_date', 'chase_shadow_value']]\n"
   ]
  },
  {
   "cell_type": "code",
   "execution_count": 76,
   "id": "02259cbd",
   "metadata": {},
   "outputs": [],
   "source": [
    "full_stats = batter_stats.copy()"
   ]
  },
  {
   "cell_type": "code",
   "execution_count": 77,
   "id": "b6c3a5c5",
   "metadata": {},
   "outputs": [
    {
     "name": "stderr",
     "output_type": "stream",
     "text": [
      "C:\\Users\\dalto\\AppData\\Local\\Temp\\ipykernel_25484\\492408953.py:2: DeprecationWarning: DataFrameGroupBy.apply operated on the grouping columns. This behavior is deprecated, and in a future version of pandas the grouping columns will be excluded from the operation. Either pass `include_groups=False` to exclude the groupings or explicitly select the grouping columns after groupby to silence this warning.\n",
      "  batter_stats1 = df_swing_value_chase_heart.groupby(['batter', 'game_date']).apply(\n"
     ]
    }
   ],
   "source": [
    "# Calculate sum of zone_pitch_xwoba for swings and exp_woba_after for takes, then average per batter\n",
    "batter_stats1 = df_swing_value_chase_heart.groupby(['batter', 'game_date']).apply(\n",
    "    lambda g: pd.Series({\n",
    "        'sum_value': g.loc[g['swing'] == 'Y', 'zone_pitch_xwoba'].sum() + g.loc[g['swing'] == 'N', 'exp_woba_after'].sum(),\n",
    "        'num_pitches': len(g)\n",
    "    })\n",
    ")\n",
    "\n",
    "# average sum value\n",
    "batter_stats1['chase_heart_value'] = batter_stats1['sum_value'] / batter_stats1['num_pitches']\n",
    "batter_stats1 = batter_stats1[ (batter_stats1['num_pitches'] > 50)].reset_index()\n",
    "\n",
    "# Standardize Value\n",
    "yearly_mean1 = batter_stats1.groupby('game_date')['chase_heart_value'].mean()\n",
    "batter_stats1['chase_heart_value'] = batter_stats1.apply(\n",
    "    lambda row: (row['chase_heart_value'] / yearly_mean1[row['game_date']]) * 100, axis=1)\n",
    "\n",
    "batter_stats1 = batter_stats1[['batter', 'game_date', 'chase_heart_value']]\n",
    "\n",
    "full_stats = full_stats.merge(batter_stats1, how='outer', on=['batter', 'game_date'])"
   ]
  },
  {
   "cell_type": "code",
   "execution_count": 78,
   "id": "ffd6513e",
   "metadata": {},
   "outputs": [
    {
     "name": "stderr",
     "output_type": "stream",
     "text": [
      "C:\\Users\\dalto\\AppData\\Local\\Temp\\ipykernel_25484\\314155830.py:2: DeprecationWarning: DataFrameGroupBy.apply operated on the grouping columns. This behavior is deprecated, and in a future version of pandas the grouping columns will be excluded from the operation. Either pass `include_groups=False` to exclude the groupings or explicitly select the grouping columns after groupby to silence this warning.\n",
      "  batter_stats = df_swing_value.groupby(['batter', 'game_date']).apply(\n"
     ]
    }
   ],
   "source": [
    "# Calculate sum of zone_pitch_xwoba for swings and exp_woba_after for takes, then average per batter\n",
    "batter_stats = df_swing_value.groupby(['batter', 'game_date']).apply(\n",
    "    lambda g: pd.Series({\n",
    "        'sum_value': g.loc[g['swing'] == 'Y', 'zone_pitch_xwoba'].sum() + g.loc[g['swing'] == 'N', 'exp_woba_after'].sum(),\n",
    "        'swing_value': g.loc[g['swing'] == 'Y', 'swing_value'].sum() - g.loc[g['swing'] == 'N', 'swing_value'].sum(),\n",
    "        'num_pitches': len(g)\n",
    "    })\n",
    ")\n",
    "\n",
    "# average sum value\n",
    "batter_stats['overall_value'] = batter_stats['sum_value'] / batter_stats['num_pitches']\n",
    "batter_stats = batter_stats[(batter_stats['num_pitches'] > 100)].reset_index()\n",
    "batter_stats['swing_value'] = batter_stats['swing_value'] / batter_stats['num_pitches']\n",
    "batter_stats['overall_value'] = batter_stats['overall_value'] * 100\n",
    "batter_stats['swing_value'] = batter_stats['swing_value'] * 100\n",
    "\n",
    "# Standardize Value\n",
    "yearly_mean = batter_stats.groupby('game_date')['overall_value'].mean()\n",
    "batter_stats['overall_value'] = batter_stats.apply(\n",
    "    lambda row: (row['overall_value'] / yearly_mean[row['game_date']]) * 100, axis=1)\n",
    "\n",
    "# Standardize Value\n",
    "yearly_mean = batter_stats.groupby('game_date')['swing_value'].mean()\n",
    "batter_stats['swing_value'] = batter_stats.apply(\n",
    "    lambda row: (row['swing_value'] / yearly_mean[row['game_date']]) * 100, axis=1)\n",
    "\n",
    "\n",
    "batter_stats = batter_stats[['batter', 'game_date', 'overall_value', 'swing_value']]\n",
    "full_stats = full_stats.merge(batter_stats, how='outer', on=['batter', 'game_date'])"
   ]
  },
  {
   "cell_type": "code",
   "execution_count": 79,
   "id": "36841809",
   "metadata": {},
   "outputs": [],
   "source": [
    "full_stats = full_stats.dropna()"
   ]
  },
  {
   "cell_type": "markdown",
   "id": "cccaadef",
   "metadata": {},
   "source": [
    "#### Merge"
   ]
  },
  {
   "cell_type": "code",
   "execution_count": null,
   "id": "5082534d",
   "metadata": {},
   "outputs": [],
   "source": [
    "# Combine merged_batter_stats with batter_stats\n",
    "batter_stats = full_stats.copy()"
   ]
  },
  {
   "cell_type": "markdown",
   "id": "2c55a638",
   "metadata": {},
   "source": [
    "#### Export / Standardize"
   ]
  },
  {
   "cell_type": "code",
   "execution_count": null,
   "id": "cb11ff1e",
   "metadata": {},
   "outputs": [],
   "source": [
    "batter_stats.to_csv('./data/final_datasets/swing_values.csv')"
   ]
  }
 ],
 "metadata": {
  "kernelspec": {
   "display_name": "base",
   "language": "python",
   "name": "python3"
  },
  "language_info": {
   "codemirror_mode": {
    "name": "ipython",
    "version": 3
   },
   "file_extension": ".py",
   "mimetype": "text/x-python",
   "name": "python",
   "nbconvert_exporter": "python",
   "pygments_lexer": "ipython3",
   "version": "3.12.7"
  }
 },
 "nbformat": 4,
 "nbformat_minor": 5
}
