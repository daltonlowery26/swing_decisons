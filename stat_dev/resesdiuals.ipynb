{
 "cells": [
  {
   "cell_type": "markdown",
   "id": "61ecfff7",
   "metadata": {},
   "source": [
    "#### xgb model that combines swing chase value, swing percent, and z-contact%"
   ]
  },
  {
   "cell_type": "code",
   "execution_count": 52,
   "id": "c5c65b83",
   "metadata": {},
   "outputs": [],
   "source": [
    "import pandas as pd\n",
    "import matplotlib as plt\n",
    "import numpy as np\n",
    "import statsmodels.api as sm\n",
    "import os \n",
    "os.chdir('C:/Users/dalto/OneDrive/Pictures/Documents/Projects/Swing Decisons')"
   ]
  },
  {
   "cell_type": "markdown",
   "id": "0a4e9aae",
   "metadata": {},
   "source": [
    "import data"
   ]
  },
  {
   "cell_type": "code",
   "execution_count": 53,
   "id": "02310553",
   "metadata": {},
   "outputs": [],
   "source": [
    "swing_data = pd.read_csv('./data/batter_data/plate_15_24.csv')\n",
    "swing_value = pd.read_csv('./data/stat_values/swing_values.csv')"
   ]
  },
  {
   "cell_type": "markdown",
   "id": "859ac335",
   "metadata": {},
   "source": [
    "clean names for matching"
   ]
  },
  {
   "cell_type": "code",
   "execution_count": 54,
   "id": "66dc4afd",
   "metadata": {},
   "outputs": [
    {
     "name": "stderr",
     "output_type": "stream",
     "text": [
      "<>:17: SyntaxWarning: invalid escape sequence '\\s'\n",
      "<>:17: SyntaxWarning: invalid escape sequence '\\s'\n",
      "C:\\Users\\dalto\\AppData\\Local\\Temp\\ipykernel_22984\\2103764149.py:17: SyntaxWarning: invalid escape sequence '\\s'\n",
      "  df[name_col] = df[name_col].str.replace('[^a-z ]', '', regex=True).str.replace('\\s+', ' ', regex=True)\n"
     ]
    }
   ],
   "source": [
    "import unicodedata\n",
    "\n",
    "def clean_names(df, name_col):\n",
    "    # Make a copy to avoid modifying the original DataFrame\n",
    "    df = df.copy()\n",
    "    \n",
    "    # Convert to lowercase and remove leading/trailing whitespace\n",
    "    df[name_col] = df[name_col].str.lower().str.strip()\n",
    "    \n",
    "    # Remove accents\n",
    "    df[name_col] = df[name_col].apply(lambda x: ''.join(\n",
    "        c for c in unicodedata.normalize('NFKD', str(x))\n",
    "        if not unicodedata.combining(c)\n",
    "    ))\n",
    "    \n",
    "    # Keep only letters and replace multiple spaces with single space\n",
    "    df[name_col] = df[name_col].str.replace('[^a-z ]', '', regex=True).str.replace('\\s+', ' ', regex=True)\n",
    "    \n",
    "    return df"
   ]
  },
  {
   "cell_type": "code",
   "execution_count": 55,
   "id": "81688872",
   "metadata": {},
   "outputs": [],
   "source": [
    "swing_data = clean_names(swing_data, 'Name')\n",
    "swing_value = clean_names(swing_value, 'batter')"
   ]
  },
  {
   "cell_type": "code",
   "execution_count": 56,
   "id": "213af54b",
   "metadata": {},
   "outputs": [],
   "source": [
    "df = swing_data.merge(swing_value[['game_date','batter','chase_shadow_value', 'swing_value']], left_on=['Season','Name'], right_on=['game_date', 'batter'], how='left')\n",
    "df = df.drop(columns=['Team', 'NameASCII', 'PlayerId', 'MLBAMID', \n",
    "                       'K%', 'O-Swing%', 'BB%'])\n",
    "df = df[df['chase_shadow_value'].notna()]\n",
    "df = df[['batter', 'PA', 'game_date','chase_shadow_value', 'swing_value', 'Swing%']]"
   ]
  },
  {
   "cell_type": "code",
   "execution_count": 57,
   "id": "f16bdd53",
   "metadata": {},
   "outputs": [
    {
     "name": "stdout",
     "output_type": "stream",
     "text": [
      "                            OLS Regression Results                            \n",
      "==============================================================================\n",
      "Dep. Variable:     chase_shadow_value   R-squared:                       0.707\n",
      "Model:                            OLS   Adj. R-squared:                  0.707\n",
      "Method:                 Least Squares   F-statistic:                     5595.\n",
      "Date:                Mon, 12 May 2025   Prob (F-statistic):               0.00\n",
      "Time:                        09:23:38   Log-Likelihood:                -6471.5\n",
      "No. Observations:                2323   AIC:                         1.295e+04\n",
      "Df Residuals:                    2321   BIC:                         1.296e+04\n",
      "Df Model:                           1                                         \n",
      "Covariance Type:            nonrobust                                         \n",
      "==============================================================================\n",
      "                 coef    std err          t      P>|t|      [0.025      0.975]\n",
      "------------------------------------------------------------------------------\n",
      "const        155.0593      0.741    209.176      0.000     153.606     156.513\n",
      "Swing%      -115.0519      1.538    -74.801      0.000    -118.068    -112.036\n",
      "==============================================================================\n",
      "Omnibus:                       57.836   Durbin-Watson:                   1.980\n",
      "Prob(Omnibus):                  0.000   Jarque-Bera (JB):              109.447\n",
      "Skew:                          -0.166   Prob(JB):                     1.71e-24\n",
      "Kurtosis:                       4.010   Cond. No.                         23.2\n",
      "==============================================================================\n",
      "\n",
      "Notes:\n",
      "[1] Standard Errors assume that the covariance matrix of the errors is correctly specified.\n",
      "\n",
      "Correlation 0.0000\n"
     ]
    }
   ],
   "source": [
    "Y_Chase = df['chase_shadow_value']\n",
    "X_swing = df['Swing%']\n",
    "X_swing = sm.add_constant(X_swing) # Add intercept\n",
    "\n",
    "model_for_residuals = sm.OLS(Y_Chase, X_swing)\n",
    "results_for_residuals = model_for_residuals.fit()\n",
    "\n",
    "        \n",
    "print(results_for_residuals.summary())\n",
    "\n",
    "df['adj_chase_shadow_value'] = results_for_residuals.resid\n",
    "# You can verify that 'AdjustedSwingDecisionStat' has low correlation with 'SwingPercent'\n",
    "correlation = df['adj_chase_shadow_value'].corr(df['Swing%'])\n",
    "print(f\"\\nCorrelation {correlation:.4f}\")"
   ]
  },
  {
   "cell_type": "code",
   "execution_count": 58,
   "id": "ce90f7b0",
   "metadata": {},
   "outputs": [
    {
     "name": "stdout",
     "output_type": "stream",
     "text": [
      "                            OLS Regression Results                            \n",
      "==============================================================================\n",
      "Dep. Variable:            swing_value   R-squared:                       0.624\n",
      "Model:                            OLS   Adj. R-squared:                  0.624\n",
      "Method:                 Least Squares   F-statistic:                     3853.\n",
      "Date:                Mon, 12 May 2025   Prob (F-statistic):               0.00\n",
      "Time:                        09:23:38   Log-Likelihood:                -9357.0\n",
      "No. Observations:                2323   AIC:                         1.872e+04\n",
      "Df Residuals:                    2321   BIC:                         1.873e+04\n",
      "Df Model:                           1                                         \n",
      "Covariance Type:            nonrobust                                         \n",
      "==============================================================================\n",
      "                 coef    std err          t      P>|t|      [0.025      0.975]\n",
      "------------------------------------------------------------------------------\n",
      "const        258.2783      2.567    100.613      0.000     253.244     263.312\n",
      "Swing%      -330.6097      5.326    -62.070      0.000    -341.055    -320.165\n",
      "==============================================================================\n",
      "Omnibus:                       84.666   Durbin-Watson:                   1.985\n",
      "Prob(Omnibus):                  0.000   Jarque-Bera (JB):              150.437\n",
      "Skew:                          -0.289   Prob(JB):                     2.15e-33\n",
      "Kurtosis:                       4.104   Cond. No.                         23.2\n",
      "==============================================================================\n",
      "\n",
      "Notes:\n",
      "[1] Standard Errors assume that the covariance matrix of the errors is correctly specified.\n",
      "\n",
      "Correlation 0.0000\n"
     ]
    }
   ],
   "source": [
    "Y_Chase = df['swing_value']\n",
    "X_swing = df['Swing%']\n",
    "X_swing = sm.add_constant(X_swing) # Add intercept\n",
    "\n",
    "model_for_residuals = sm.OLS(Y_Chase, X_swing)\n",
    "results_for_residuals = model_for_residuals.fit()\n",
    "\n",
    "        \n",
    "print(results_for_residuals.summary())\n",
    "\n",
    "df['adj_swing_value'] = results_for_residuals.resid \n",
    "correlation = df['adj_swing_value'].corr(df['Swing%'])\n",
    "print(f\"\\nCorrelation {correlation:.4f}\")"
   ]
  },
  {
   "cell_type": "code",
   "execution_count": 62,
   "id": "b45796c8",
   "metadata": {},
   "outputs": [],
   "source": [
    "df = df[df['PA'] > 100]"
   ]
  },
  {
   "cell_type": "code",
   "execution_count": null,
   "id": "9b31bebe",
   "metadata": {},
   "outputs": [],
   "source": [
    "df.to_csv('./data/stat_values/swing_adj_data.csv')"
   ]
  }
 ],
 "metadata": {
  "kernelspec": {
   "display_name": "base",
   "language": "python",
   "name": "python3"
  },
  "language_info": {
   "codemirror_mode": {
    "name": "ipython",
    "version": 3
   },
   "file_extension": ".py",
   "mimetype": "text/x-python",
   "name": "python",
   "nbconvert_exporter": "python",
   "pygments_lexer": "ipython3",
   "version": "3.12.7"
  }
 },
 "nbformat": 4,
 "nbformat_minor": 5
}
