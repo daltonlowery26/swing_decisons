{
 "cells": [
  {
   "cell_type": "markdown",
   "id": "61ecfff7",
   "metadata": {},
   "source": [
    "#### xgb model that combines swing chase value, swing percent, and z-contact%"
   ]
  },
  {
   "cell_type": "code",
   "execution_count": 1,
   "id": "c5c65b83",
   "metadata": {},
   "outputs": [],
   "source": [
    "import pandas as pd\n",
    "import matplotlib as plt\n",
    "import numpy as np\n",
    "import statsmodels.api as sm\n",
    "import os \n",
    "os.chdir('C:/Users/dalto/OneDrive/Pictures/Documents/Projects/Active/Swing Decisons/')"
   ]
  },
  {
   "cell_type": "markdown",
   "id": "0a4e9aae",
   "metadata": {},
   "source": [
    "import data"
   ]
  },
  {
   "cell_type": "code",
   "execution_count": 2,
   "id": "02310553",
   "metadata": {},
   "outputs": [],
   "source": [
    "swing_data = pd.read_csv('./data/batter_data/plate_15_24.csv')\n",
    "swing_value = pd.read_csv('./data/stat_values/swing_values.csv')"
   ]
  },
  {
   "cell_type": "markdown",
   "id": "859ac335",
   "metadata": {},
   "source": [
    "clean names for matching"
   ]
  },
  {
   "cell_type": "code",
   "execution_count": 3,
   "id": "66dc4afd",
   "metadata": {},
   "outputs": [
    {
     "name": "stderr",
     "output_type": "stream",
     "text": [
      "<>:17: SyntaxWarning: invalid escape sequence '\\s'\n",
      "<>:17: SyntaxWarning: invalid escape sequence '\\s'\n",
      "C:\\Users\\dalto\\AppData\\Local\\Temp\\ipykernel_29348\\2103764149.py:17: SyntaxWarning: invalid escape sequence '\\s'\n",
      "  df[name_col] = df[name_col].str.replace('[^a-z ]', '', regex=True).str.replace('\\s+', ' ', regex=True)\n"
     ]
    }
   ],
   "source": [
    "import unicodedata\n",
    "\n",
    "def clean_names(df, name_col):\n",
    "    # Make a copy to avoid modifying the original DataFrame\n",
    "    df = df.copy()\n",
    "    \n",
    "    # Convert to lowercase and remove leading/trailing whitespace\n",
    "    df[name_col] = df[name_col].str.lower().str.strip()\n",
    "    \n",
    "    # Remove accents\n",
    "    df[name_col] = df[name_col].apply(lambda x: ''.join(\n",
    "        c for c in unicodedata.normalize('NFKD', str(x))\n",
    "        if not unicodedata.combining(c)\n",
    "    ))\n",
    "    \n",
    "    # Keep only letters and replace multiple spaces with single space\n",
    "    df[name_col] = df[name_col].str.replace('[^a-z ]', '', regex=True).str.replace('\\s+', ' ', regex=True)\n",
    "    \n",
    "    return df"
   ]
  },
  {
   "cell_type": "code",
   "execution_count": 4,
   "id": "81688872",
   "metadata": {},
   "outputs": [],
   "source": [
    "swing_data = clean_names(swing_data, 'Name')\n",
    "swing_value = clean_names(swing_value, 'batter')"
   ]
  },
  {
   "cell_type": "code",
   "execution_count": 9,
   "id": "213af54b",
   "metadata": {},
   "outputs": [],
   "source": [
    "df = swing_data.merge(swing_value[['game_date','batter','chase_shadow_value', 'swing_value']], left_on=['Season','Name'], right_on=['game_date', 'batter'], how='left')\n",
    "df = df.drop(columns=['Team', 'NameASCII', 'PlayerId', 'MLBAMID', \n",
    "                       'K%', 'O-Swing%', 'BB%'])\n",
    "df = df[df['chase_shadow_value'].notna()]\n",
    "df = df[['batter', 'PA', 'game_date','chase_shadow_value', 'swing_value', 'Swing%', 'Contact%']]\n",
    "df.to_csv('./data/swing_data/asv_swing%.csv')"
   ]
  },
  {
   "cell_type": "code",
   "execution_count": 13,
   "id": "f16bdd53",
   "metadata": {},
   "outputs": [
    {
     "name": "stdout",
     "output_type": "stream",
     "text": [
      "                            OLS Regression Results                            \n",
      "==============================================================================\n",
      "Dep. Variable:     chase_shadow_value   R-squared:                       0.707\n",
      "Model:                            OLS   Adj. R-squared:                  0.707\n",
      "Method:                 Least Squares   F-statistic:                     2797.\n",
      "Date:                Tue, 13 May 2025   Prob (F-statistic):               0.00\n",
      "Time:                        15:23:00   Log-Likelihood:                -6471.5\n",
      "No. Observations:                2323   AIC:                         1.295e+04\n",
      "Df Residuals:                    2320   BIC:                         1.297e+04\n",
      "Df Model:                           2                                         \n",
      "Covariance Type:            nonrobust                                         \n",
      "==============================================================================\n",
      "                 coef    std err          t      P>|t|      [0.025      0.975]\n",
      "------------------------------------------------------------------------------\n",
      "const        154.7220      1.329    116.395      0.000     152.115     157.329\n",
      "Swing%      -114.9473      1.576    -72.938      0.000    -118.038    -111.857\n",
      "Contact%       0.3804      1.244      0.306      0.760      -2.059       2.820\n",
      "==============================================================================\n",
      "Omnibus:                       56.950   Durbin-Watson:                   1.980\n",
      "Prob(Omnibus):                  0.000   Jarque-Bera (JB):              107.425\n",
      "Skew:                          -0.164   Prob(JB):                     4.71e-24\n",
      "Kurtosis:                       4.001   Cond. No.                         33.9\n",
      "==============================================================================\n",
      "\n",
      "Notes:\n",
      "[1] Standard Errors assume that the covariance matrix of the errors is correctly specified.\n",
      "\n",
      "Correlation -0.0000\n"
     ]
    }
   ],
   "source": [
    "Y_Chase = df['chase_shadow_value']\n",
    "X_swing = df['Swing%']\n",
    "X_contact = df['Contact%']\n",
    "X_swing = sm.add_constant(X_swing) # Add intercept\n",
    "\n",
    "model_for_residuals = sm.OLS(Y_Chase, pd.concat([X_swing, X_contact], axis=1))\n",
    "results_for_residuals = model_for_residuals.fit()\n",
    "\n",
    "        \n",
    "print(results_for_residuals.summary())\n",
    "\n",
    "df['adj_chase_shadow_value'] = results_for_residuals.resid\n",
    "# You can verify that 'AdjustedSwingDecisionStat' has low correlation with 'SwingPercent'\n",
    "correlation = df['adj_chase_shadow_value'].corr(df['Swing%'])\n",
    "print(f\"\\nCorrelation {correlation:.4f}\")"
   ]
  },
  {
   "cell_type": "code",
   "execution_count": 14,
   "id": "ce90f7b0",
   "metadata": {},
   "outputs": [
    {
     "name": "stdout",
     "output_type": "stream",
     "text": [
      "                            OLS Regression Results                            \n",
      "==============================================================================\n",
      "Dep. Variable:            swing_value   R-squared:                       0.624\n",
      "Model:                            OLS   Adj. R-squared:                  0.624\n",
      "Method:                 Least Squares   F-statistic:                     1928.\n",
      "Date:                Tue, 13 May 2025   Prob (F-statistic):               0.00\n",
      "Time:                        15:23:30   Log-Likelihood:                -9356.1\n",
      "No. Observations:                2323   AIC:                         1.872e+04\n",
      "Df Residuals:                    2320   BIC:                         1.874e+04\n",
      "Df Model:                           2                                         \n",
      "Covariance Type:            nonrobust                                         \n",
      "==============================================================================\n",
      "                 coef    std err          t      P>|t|      [0.025      0.975]\n",
      "------------------------------------------------------------------------------\n",
      "const        253.1991      4.602     55.024      0.000     244.175     262.223\n",
      "Swing%      -329.0350      5.456    -60.312      0.000    -339.733    -318.337\n",
      "Contact%       5.7272      4.307      1.330      0.184      -2.718      14.172\n",
      "==============================================================================\n",
      "Omnibus:                       78.300   Durbin-Watson:                   1.987\n",
      "Prob(Omnibus):                  0.000   Jarque-Bera (JB):              138.323\n",
      "Skew:                          -0.270   Prob(JB):                     9.19e-31\n",
      "Kurtosis:                       4.067   Cond. No.                         33.9\n",
      "==============================================================================\n",
      "\n",
      "Notes:\n",
      "[1] Standard Errors assume that the covariance matrix of the errors is correctly specified.\n",
      "\n",
      "Correlation -0.0000\n"
     ]
    }
   ],
   "source": [
    "Y_Chase = df['swing_value']\n",
    "X_swing = df['Swing%']\n",
    "X_contact = df['Contact%']\n",
    "X_swing = sm.add_constant(X_swing) # Add intercept\n",
    "\n",
    "model_for_residuals = sm.OLS(Y_Chase, pd.concat([X_swing, X_contact], axis=1))\n",
    "results_for_residuals = model_for_residuals.fit()\n",
    "\n",
    "        \n",
    "print(results_for_residuals.summary())\n",
    "\n",
    "df['adj_swing_value'] = results_for_residuals.resid \n",
    "correlation = df['adj_swing_value'].corr(df['Swing%'])\n",
    "print(f\"\\nCorrelation {correlation:.4f}\")"
   ]
  },
  {
   "cell_type": "code",
   "execution_count": null,
   "id": "b45796c8",
   "metadata": {},
   "outputs": [],
   "source": [
    "df = df[df['PA'] > 100]"
   ]
  },
  {
   "cell_type": "code",
   "execution_count": 16,
   "id": "9b31bebe",
   "metadata": {},
   "outputs": [],
   "source": [
    "df.to_csv('./data/stat_values/swing_adj_data.csv')"
   ]
  }
 ],
 "metadata": {
  "kernelspec": {
   "display_name": "base",
   "language": "python",
   "name": "python3"
  },
  "language_info": {
   "codemirror_mode": {
    "name": "ipython",
    "version": 3
   },
   "file_extension": ".py",
   "mimetype": "text/x-python",
   "name": "python",
   "nbconvert_exporter": "python",
   "pygments_lexer": "ipython3",
   "version": "3.12.7"
  }
 },
 "nbformat": 4,
 "nbformat_minor": 5
}
