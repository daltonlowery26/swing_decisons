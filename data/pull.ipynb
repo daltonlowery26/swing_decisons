{
 "cells": [
  {
   "cell_type": "markdown",
   "id": "74050e3b",
   "metadata": {},
   "source": [
    "### pull pybaseball data"
   ]
  },
  {
   "cell_type": "code",
   "execution_count": null,
   "id": "8df297f0",
   "metadata": {},
   "outputs": [],
   "source": [
    "import pandas as pd \n",
    "from pybaseball import statcast\n",
    "from pybaseball import statcast_batter\n",
    "from pybaseball import cache\n",
    "import os\n",
    "os.chdir('C:/Users/dalto/OneDrive/Pictures/Documents/Projects/Swing Decisons')\n",
    "cache.enable()"
   ]
  },
  {
   "cell_type": "code",
   "execution_count": 4,
   "id": "1f090e8b",
   "metadata": {},
   "outputs": [
    {
     "name": "stdout",
     "output_type": "stream",
     "text": [
      "This is a large query, it may take a moment to complete\n",
      "Skipping offseason dates\n",
      "Skipping offseason dates\n",
      "Skipping offseason dates\n",
      "Skipping offseason dates\n",
      "Skipping offseason dates\n"
     ]
    },
    {
     "name": "stderr",
     "output_type": "stream",
     "text": [
      " 21%|██▏       | 211/984 [01:19<03:35,  3.58it/s]c:\\Users\\dalto\\anaconda3\\Lib\\site-packages\\pybaseball\\datahelpers\\postprocessing.py:59: FutureWarning: errors='ignore' is deprecated and will raise in a future version. Use to_datetime without passing `errors` and catch exceptions explicitly instead\n",
      "  data_copy[column] = data_copy[column].apply(pd.to_datetime, errors='ignore', format=date_format)\n",
      " 40%|████      | 396/984 [02:26<01:39,  5.89it/s]c:\\Users\\dalto\\anaconda3\\Lib\\site-packages\\pybaseball\\datahelpers\\postprocessing.py:59: FutureWarning: errors='ignore' is deprecated and will raise in a future version. Use to_datetime without passing `errors` and catch exceptions explicitly instead\n",
      "  data_copy[column] = data_copy[column].apply(pd.to_datetime, errors='ignore', format=date_format)\n",
      " 40%|████      | 397/984 [02:27<04:19,  2.26it/s]c:\\Users\\dalto\\anaconda3\\Lib\\site-packages\\pybaseball\\datahelpers\\postprocessing.py:59: FutureWarning: errors='ignore' is deprecated and will raise in a future version. Use to_datetime without passing `errors` and catch exceptions explicitly instead\n",
      "  data_copy[column] = data_copy[column].apply(pd.to_datetime, errors='ignore', format=date_format)\n",
      " 69%|██████▉   | 679/984 [04:08<01:21,  3.75it/s]c:\\Users\\dalto\\anaconda3\\Lib\\site-packages\\pybaseball\\datahelpers\\postprocessing.py:59: FutureWarning: errors='ignore' is deprecated and will raise in a future version. Use to_datetime without passing `errors` and catch exceptions explicitly instead\n",
      "  data_copy[column] = data_copy[column].apply(pd.to_datetime, errors='ignore', format=date_format)\n",
      "100%|██████████| 984/984 [05:59<00:00,  2.74it/s]\n",
      "c:\\Users\\dalto\\anaconda3\\Lib\\site-packages\\pybaseball\\statcast.py:85: FutureWarning: The behavior of DataFrame concatenation with empty or all-NA entries is deprecated. In a future version, this will no longer exclude empty or all-NA columns when determining the result dtypes. To retain the old behavior, exclude the relevant entries before the concat operation.\n",
      "  final_data = pd.concat(dataframe_list, axis=0).convert_dtypes(convert_string=False)\n"
     ]
    }
   ],
   "source": [
    "df = statcast('2021-01-01', '2024-12-30')"
   ]
  },
  {
   "cell_type": "code",
   "execution_count": 11,
   "id": "ffb48bc0",
   "metadata": {},
   "outputs": [],
   "source": [
    "df_keep = df[['pitch_type', 'pitch_name', 'player_name', 'pitcher', 'batter', 'description', 'zone', 'estimated_woba_using_speedangle', 'stand', 'p_throws', 'type', 'balls', 'strikes',\n",
    "              'plate_x','plate_z', 'sz_top', 'sz_bot']]\n",
    "df_keep = df_keep[df_keep['pitch_type'].notna()]\n",
    "df_keep = df_keep.rename(columns={'estimated_woba_using_speedangle': 'xwoba', 'stand': 'b_stands', 'plate_x': 'plate_horz', 'plate_z': 'plate_vert'})"
   ]
  },
  {
   "cell_type": "code",
   "execution_count": 21,
   "id": "20ccd9e4",
   "metadata": {},
   "outputs": [],
   "source": [
    "batter = pd.read_csv('./data/fg_00_24.csv')\n",
    "batter = batter[['Name', 'MLBAMID']]\n",
    "batter = batter.reset_index()\n",
    "batter = batter.drop(columns=['index'])"
   ]
  },
  {
   "cell_type": "code",
   "execution_count": null,
   "id": "c2185d17",
   "metadata": {},
   "outputs": [],
   "source": [
    "df_keep = df_keep.merge(batter, how='left',left_on='batter', right_on='MLBAMID')"
   ]
  },
  {
   "cell_type": "code",
   "execution_count": null,
   "id": "1f7db071",
   "metadata": {},
   "outputs": [],
   "source": [
    "df_keep = df_keep.drop_duplicates()"
   ]
  },
  {
   "cell_type": "code",
   "execution_count": 28,
   "id": "e038356f",
   "metadata": {},
   "outputs": [],
   "source": [
    "# Move 'Name' column to be the 4th column and drop 'MLBAMID'\n",
    "cols = list(df_keep.columns)\n",
    "cols.remove('Name')\n",
    "cols.remove('pitcher')\n",
    "cols.remove('batter')\n",
    "cols = cols[:3] + ['Name'] + cols[3:]\n",
    "df_keep = df_keep[cols]"
   ]
  },
  {
   "cell_type": "code",
   "execution_count": 29,
   "id": "c0e172fa",
   "metadata": {},
   "outputs": [],
   "source": [
    "df_keep = df_keep.rename(columns={'player_name': 'pitcher', 'Name':'batter'})"
   ]
  },
  {
   "cell_type": "code",
   "execution_count": 35,
   "id": "32ea29d6",
   "metadata": {},
   "outputs": [],
   "source": [
    "import unicodedata\n",
    "def remove_accents(name):\n",
    "    # Remove accents\n",
    "    name = ''.join(\n",
    "        c for c in unicodedata.normalize('NFKD', name)\n",
    "        if not unicodedata.combining(c)\n",
    "    )\n",
    "    # Keep only lowercase a-z letters and spaces\n",
    "    return ''.join(c for c in name if c in 'abcdefghijklmnopqrstuvwxyz ')"
   ]
  },
  {
   "cell_type": "code",
   "execution_count": 36,
   "id": "a5dd4a42",
   "metadata": {},
   "outputs": [],
   "source": [
    "df_keep['pitcher'] = df_keep['pitcher'].str.lower()\n",
    "df_keep['pitcher'] = df_keep['pitcher'].str.split(', ').str[::-1].str.join(' ')\n",
    "df_keep['pitcher'] = df_keep['pitcher'].apply(remove_accents)"
   ]
  },
  {
   "cell_type": "code",
   "execution_count": 37,
   "id": "b70cc55d",
   "metadata": {},
   "outputs": [],
   "source": [
    "df_keep['batter'] = df_keep['batter'].astype(str).str.lower()\n",
    "df_keep['batter'] = df_keep['batter'].apply(remove_accents)"
   ]
  },
  {
   "cell_type": "code",
   "execution_count": 38,
   "id": "dfc8efad",
   "metadata": {},
   "outputs": [],
   "source": [
    "df_keep.to_csv('./data/pitch_21_24.csv')"
   ]
  }
 ],
 "metadata": {
  "kernelspec": {
   "display_name": "base",
   "language": "python",
   "name": "python3"
  },
  "language_info": {
   "codemirror_mode": {
    "name": "ipython",
    "version": 3
   },
   "file_extension": ".py",
   "mimetype": "text/x-python",
   "name": "python",
   "nbconvert_exporter": "python",
   "pygments_lexer": "ipython3",
   "version": "3.12.7"
  }
 },
 "nbformat": 4,
 "nbformat_minor": 5
}
