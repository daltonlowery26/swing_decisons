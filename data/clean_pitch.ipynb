{
 "cells": [
  {
   "cell_type": "markdown",
   "id": "74050e3b",
   "metadata": {},
   "source": [
    "### pull pybaseball data"
   ]
  },
  {
   "cell_type": "code",
   "execution_count": 1,
   "id": "8df297f0",
   "metadata": {},
   "outputs": [],
   "source": [
    "import pandas as pd \n",
    "from pybaseball import statcast\n",
    "from pybaseball import statcast_batter\n",
    "from pybaseball import cache\n",
    "import os\n",
    "os.chdir('C:/Users/dalto/OneDrive/Pictures/Documents/Projects/Swing Decisons')\n",
    "cache.enable()"
   ]
  },
  {
   "cell_type": "code",
   "execution_count": null,
   "id": "1f090e8b",
   "metadata": {},
   "outputs": [
    {
     "name": "stdout",
     "output_type": "stream",
     "text": [
      "This is a large query, it may take a moment to complete\n",
      "Skipping offseason dates\n",
      "Skipping offseason dates\n",
      "Skipping offseason dates\n",
      "Skipping offseason dates\n",
      "Skipping offseason dates\n",
      "Skipping offseason dates\n",
      "Skipping offseason dates\n",
      "Skipping offseason dates\n",
      "Skipping offseason dates\n",
      "Skipping offseason dates\n",
      "Skipping offseason dates\n"
     ]
    },
    {
     "name": "stderr",
     "output_type": "stream",
     "text": [
      " 20%|█▉        | 428/2159 [07:45<16:08,  1.79it/s]  c:\\Users\\dalto\\anaconda3\\Lib\\site-packages\\pybaseball\\datahelpers\\postprocessing.py:59: FutureWarning: errors='ignore' is deprecated and will raise in a future version. Use to_datetime without passing `errors` and catch exceptions explicitly instead\n",
      "  data_copy[column] = data_copy[column].apply(pd.to_datetime, errors='ignore', format=date_format)\n",
      " 30%|███       | 656/2159 [11:34<15:20,  1.63it/s]"
     ]
    }
   ],
   "source": [
    "df = statcast('2015-01-01', '2024-12-30')"
   ]
  },
  {
   "cell_type": "code",
   "execution_count": null,
   "id": "ffb48bc0",
   "metadata": {},
   "outputs": [],
   "source": [
    "df_keep = df[['game_date','pitch_type', 'pitch_name', 'player_name', 'pitcher', 'batter', 'description', 'zone', 'estimated_woba_using_speedangle', 'stand', 'p_throws', 'type', 'balls', 'strikes',\n",
    "              'plate_x','plate_z', 'sz_top', 'sz_bot']]\n",
    "df_keep = df_keep[df_keep['pitch_type'].notna()]\n",
    "df_keep = df_keep.rename(columns={'estimated_woba_using_speedangle': 'xwoba', 'stand': 'b_stands', 'plate_x': 'plate_horz', 'plate_z': 'plate_vert'})"
   ]
  },
  {
   "cell_type": "code",
   "execution_count": null,
   "id": "20ccd9e4",
   "metadata": {},
   "outputs": [],
   "source": [
    "batter = pd.read_csv('./data/final_datasets/fg_00_24.csv')\n",
    "batter = batter[['Name', 'MLBAMID']]\n",
    "batter = batter.reset_index()\n",
    "batter = batter.drop(columns=['index'])"
   ]
  },
  {
   "cell_type": "code",
   "execution_count": null,
   "id": "c2185d17",
   "metadata": {},
   "outputs": [],
   "source": [
    "df_keep = df_keep.merge(batter, how='left',left_on='batter', right_on='MLBAMID')"
   ]
  },
  {
   "cell_type": "code",
   "execution_count": null,
   "id": "1f7db071",
   "metadata": {},
   "outputs": [],
   "source": [
    "df_keep = df_keep.drop_duplicates()"
   ]
  },
  {
   "cell_type": "code",
   "execution_count": null,
   "id": "e038356f",
   "metadata": {},
   "outputs": [],
   "source": [
    "# Move 'Name' column to be the 4th column and drop 'MLBAMID'\n",
    "cols = list(df_keep.columns)\n",
    "cols.remove('Name')\n",
    "cols.remove('pitcher')\n",
    "cols.remove('batter')\n",
    "cols = cols[:3] + ['Name'] + cols[3:]\n",
    "df_keep = df_keep[cols]"
   ]
  },
  {
   "cell_type": "code",
   "execution_count": null,
   "id": "c0e172fa",
   "metadata": {},
   "outputs": [],
   "source": [
    "df_keep = df_keep.rename(columns={'player_name': 'pitcher', 'Name':'batter'})"
   ]
  },
  {
   "cell_type": "code",
   "execution_count": null,
   "id": "32ea29d6",
   "metadata": {},
   "outputs": [],
   "source": [
    "import unicodedata\n",
    "def clean_names(df, name_col):\n",
    "    # Make a copy to avoid modifying the original DataFrame\n",
    "    df = df.copy()\n",
    "    \n",
    "    # Convert to lowercase and remove leading/trailing whitespace\n",
    "    df[name_col] = df[name_col].str.lower().str.strip()\n",
    "    \n",
    "    # Remove accents\n",
    "    df[name_col] = df[name_col].apply(lambda x: ''.join(\n",
    "        c for c in unicodedata.normalize('NFKD', str(x))\n",
    "        if not unicodedata.combining(c)\n",
    "    ))\n",
    "    \n",
    "    # Keep only letters and replace multiple spaces with single space\n",
    "    df[name_col] = df[name_col].str.replace('[^a-z ]', '', regex=True).str.replace('\\s+', ' ', regex=True)\n",
    "    \n",
    "    return df"
   ]
  },
  {
   "cell_type": "code",
   "execution_count": null,
   "id": "a5dd4a42",
   "metadata": {},
   "outputs": [],
   "source": [
    "df_keep['pitcher'] = df_keep['pitcher'].str.split(', ').str[::-1].str.join(' ')\n",
    "df_keep = clean_names(df_keep, 'pitcher')\n",
    "df_keep = clean_names(df_keep, 'batter')"
   ]
  },
  {
   "cell_type": "code",
   "execution_count": null,
   "id": "dfc8efad",
   "metadata": {},
   "outputs": [],
   "source": [
    "df_keep.to_csv('./data/final_datasets/pitch_15_24.csv')"
   ]
  }
 ],
 "metadata": {
  "kernelspec": {
   "display_name": "base",
   "language": "python",
   "name": "python3"
  },
  "language_info": {
   "codemirror_mode": {
    "name": "ipython",
    "version": 3
   },
   "file_extension": ".py",
   "mimetype": "text/x-python",
   "name": "python",
   "nbconvert_exporter": "python",
   "pygments_lexer": "ipython3",
   "version": "3.12.7"
  }
 },
 "nbformat": 4,
 "nbformat_minor": 5
}
